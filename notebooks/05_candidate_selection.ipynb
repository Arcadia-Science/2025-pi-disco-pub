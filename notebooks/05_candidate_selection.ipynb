{
 "cells": [
  {
   "cell_type": "markdown",
   "id": "ab6e837a-85bc-476b-8bc6-0a7b75f33424",
   "metadata": {},
   "source": [
    "### This notebook selects OG0000058 as the top protease inhibitor orthogroup postively associated with the detection suppression trait. \n",
    "Then, we use salivary expression data from female ticks to choose the top 10 highest expressed secreted members of OG0000058. \n",
    "\n",
    "#### Inputs:\n",
    "Phylo profiling variable importance: ../datasheets/phylo_out/variable_importance_feature_selection_borda.csv \\\n",
    "Phylo profiling partial dependence plots: ../datasheets/phylo_out/explanation_pd_*_s.csv \\\n",
    "Full list of chelicerate proteins and orthogroups: \n",
    "../../25aacutoff_fullset_100223_annotated/all_chelicerate_proteins_annotated_plus_orthogroups_plus_clusters.csv \\\n",
    "Salivary gland expression from app: ../datasheets/genes_by_expression_female_x_salivary_gland.csv\n",
    "\n",
    "#### Outputs:\n",
    "List of 10 Amblyomma americanum genes from OG0000058 that are secreted and expressed in the female salivary gland: ../datasheets/Amblyomma-americanum_OG0000058_candidates.tsv"
   ]
  },
  {
   "cell_type": "code",
   "execution_count": 10,
   "id": "7f97a353-a83a-46bf-9c71-0dd9ec8cb94c",
   "metadata": {},
   "outputs": [],
   "source": [
    "import pandas as pd\n",
    "import arcadia_pycolor as apc\n",
    "import matplotlib.pyplot as plt\n",
    "import glob as glob\n",
    "import seaborn as sns\n",
    "pd.set_option('display.max_columns', None)\n",
    "apc.mpl.setup()"
   ]
  },
  {
   "cell_type": "markdown",
   "id": "c8b513fe-5f13-4a23-a93f-3de0ceb3866f",
   "metadata": {},
   "source": [
    "### Selecting top orthogroups using phylo profiling data"
   ]
  },
  {
   "cell_type": "code",
   "execution_count": 2,
   "id": "18f16548-50a5-4374-a960-820301cfa3e9",
   "metadata": {},
   "outputs": [],
   "source": [
    "#reading in csv of orthogroup ranking \n",
    "#TO DO FOR AB: fix paths to refer to emily's phylo out after merge\n",
    "hit_ranking = pd.read_csv(\"../datasheets/phylo_out/variable_importance_feature_selection_borda.csv\", sep = \";\")\n",
    "hit_ranking[\"orthogroup\"] = hit_ranking[\"name\"].apply(lambda x: x.split(\"_\")[0])\n",
    "hit_ranking.sort_values(\"score\", ascending = False, inplace = True)\n",
    "\n"
   ]
  },
  {
   "cell_type": "code",
   "execution_count": 3,
   "id": "cc448798-a842-4bd2-b3aa-c87f1fa9d864",
   "metadata": {},
   "outputs": [
    {
     "name": "stderr",
     "output_type": "stream",
     "text": [
      "/Users/adairborges/miniconda3/envs/jupyter/lib/python3.11/site-packages/seaborn/_oldcore.py:1498: FutureWarning: is_categorical_dtype is deprecated and will be removed in a future version. Use isinstance(dtype, CategoricalDtype) instead\n",
      "  if pd.api.types.is_categorical_dtype(vector):\n",
      "/Users/adairborges/miniconda3/envs/jupyter/lib/python3.11/site-packages/seaborn/_oldcore.py:1498: FutureWarning: is_categorical_dtype is deprecated and will be removed in a future version. Use isinstance(dtype, CategoricalDtype) instead\n",
      "  if pd.api.types.is_categorical_dtype(vector):\n",
      "/Users/adairborges/miniconda3/envs/jupyter/lib/python3.11/site-packages/seaborn/_oldcore.py:1498: FutureWarning: is_categorical_dtype is deprecated and will be removed in a future version. Use isinstance(dtype, CategoricalDtype) instead\n",
      "  if pd.api.types.is_categorical_dtype(vector):\n"
     ]
    },
    {
     "data": {
      "image/png": "[encoded data removed]",
      "text/plain": [
       "<Figure size 460.8x345.6 with 1 Axes>"
      ]
     },
     "metadata": {},
     "output_type": "display_data"
    }
   ],
   "source": [
    "#making a barplot of the borda ranking scores of each orthogroup \n",
    "sns.barplot(x = 'orthogroup',\n",
    "            y = 'score',\n",
    "            data = hit_ranking, color=apc.aegean)\n",
    "plt.xticks(rotation=90, ha='right')\n",
    "plt.savefig(\"../outputs/variable_importance_feature_selection_borda_.pdf\", bbox_inches=\"tight\")\n"
   ]
  },
  {
   "cell_type": "code",
   "execution_count": 4,
   "id": "e6773eec-d70c-464c-9398-d4eaa3fc90a0",
   "metadata": {},
   "outputs": [],
   "source": [
    "#just going to look at top hits, not all orthogroups \n",
    "hits = [\"OG0000480\", \"OG0001324\", \"OG0000058\"]\n",
    "\n",
    "df_list = []\n",
    "og_list = []\n",
    "#reading in PD data from phyloprofiling \n",
    "#TO DO FOR AB: fix paths to refer to emily's phylo out after merge\n",
    "for file in glob.glob('../datasheets/phylo_out/explanation_pd_*_s.csv'): \n",
    "    df = pd.read_csv(file, sep = \";\").fillna(\"None\")\n",
    "\n",
    "    OG = file.split(\"pd_\")[1].split(\"_s\")[0]\n",
    "    if OG in hits:\n",
    "\n",
    "        og_list.append(OG)\n",
    "    \n",
    "        df[\"Orthogroup\"] = OG\n",
    "        df_list.append(df)"
   ]
  },
  {
   "cell_type": "code",
   "execution_count": 5,
   "id": "c3915e32-e627-4ffc-bc3d-ecca6736fbd5",
   "metadata": {},
   "outputs": [
    {
     "data": {
      "text/html": [
       "<div>\n",
       "<style scoped>\n",
       "    .dataframe tbody tr th:only-of-type {\n",
       "        vertical-align: middle;\n",
       "    }\n",
       "\n",
       "    .dataframe tbody tr th {\n",
       "        vertical-align: top;\n",
       "    }\n",
       "\n",
       "    .dataframe thead th {\n",
       "        text-align: right;\n",
       "    }\n",
       "</style>\n",
       "<table border=\"1\" class=\"dataframe\">\n",
       "  <thead>\n",
       "    <tr style=\"text-align: right;\">\n",
       "      <th></th>\n",
       "      <th>data_set</th>\n",
       "      <th>fs_method</th>\n",
       "      <th>learner</th>\n",
       "      <th>ensemble_model_name</th>\n",
       "      <th>positive_class</th>\n",
       "      <th>feature_x_value</th>\n",
       "      <th>probability</th>\n",
       "      <th>novelty</th>\n",
       "      <th>Orthogroup</th>\n",
       "    </tr>\n",
       "  </thead>\n",
       "  <tbody>\n",
       "    <tr>\n",
       "      <th>0</th>\n",
       "      <td>development</td>\n",
       "      <td>lasso_binomial</td>\n",
       "      <td>lasso</td>\n",
       "      <td>ensemble.1.1</td>\n",
       "      <td>1</td>\n",
       "      <td>0.095308</td>\n",
       "      <td>0.777533</td>\n",
       "      <td>0.507525</td>\n",
       "      <td>OG0000480</td>\n",
       "    </tr>\n",
       "    <tr>\n",
       "      <th>1</th>\n",
       "      <td>development</td>\n",
       "      <td>lasso_binomial</td>\n",
       "      <td>lasso</td>\n",
       "      <td>ensemble.1.1</td>\n",
       "      <td>1</td>\n",
       "      <td>0.124191</td>\n",
       "      <td>0.756869</td>\n",
       "      <td>0.504304</td>\n",
       "      <td>OG0000480</td>\n",
       "    </tr>\n",
       "    <tr>\n",
       "      <th>2</th>\n",
       "      <td>development</td>\n",
       "      <td>lasso_binomial</td>\n",
       "      <td>lasso</td>\n",
       "      <td>ensemble.1.1</td>\n",
       "      <td>1</td>\n",
       "      <td>0.153819</td>\n",
       "      <td>0.736123</td>\n",
       "      <td>0.501417</td>\n",
       "      <td>OG0000480</td>\n",
       "    </tr>\n",
       "    <tr>\n",
       "      <th>3</th>\n",
       "      <td>development</td>\n",
       "      <td>lasso_binomial</td>\n",
       "      <td>lasso</td>\n",
       "      <td>ensemble.1.1</td>\n",
       "      <td>1</td>\n",
       "      <td>0.184534</td>\n",
       "      <td>0.715145</td>\n",
       "      <td>0.499034</td>\n",
       "      <td>OG0000480</td>\n",
       "    </tr>\n",
       "    <tr>\n",
       "      <th>4</th>\n",
       "      <td>development</td>\n",
       "      <td>lasso_binomial</td>\n",
       "      <td>lasso</td>\n",
       "      <td>ensemble.1.1</td>\n",
       "      <td>1</td>\n",
       "      <td>0.216679</td>\n",
       "      <td>0.692553</td>\n",
       "      <td>0.495968</td>\n",
       "      <td>OG0000480</td>\n",
       "    </tr>\n",
       "    <tr>\n",
       "      <th>...</th>\n",
       "      <td>...</td>\n",
       "      <td>...</td>\n",
       "      <td>...</td>\n",
       "      <td>...</td>\n",
       "      <td>...</td>\n",
       "      <td>...</td>\n",
       "      <td>...</td>\n",
       "      <td>...</td>\n",
       "      <td>...</td>\n",
       "    </tr>\n",
       "    <tr>\n",
       "      <th>95</th>\n",
       "      <td>validation</td>\n",
       "      <td>lasso_binomial</td>\n",
       "      <td>lasso</td>\n",
       "      <td>ensemble.1.1</td>\n",
       "      <td>1</td>\n",
       "      <td>6.081875</td>\n",
       "      <td>0.757970</td>\n",
       "      <td>0.505387</td>\n",
       "      <td>OG0001324</td>\n",
       "    </tr>\n",
       "    <tr>\n",
       "      <th>96</th>\n",
       "      <td>validation</td>\n",
       "      <td>lasso_binomial</td>\n",
       "      <td>lasso</td>\n",
       "      <td>ensemble.1.1</td>\n",
       "      <td>1</td>\n",
       "      <td>7.363983</td>\n",
       "      <td>0.760996</td>\n",
       "      <td>0.505559</td>\n",
       "      <td>OG0001324</td>\n",
       "    </tr>\n",
       "    <tr>\n",
       "      <th>97</th>\n",
       "      <td>validation</td>\n",
       "      <td>lasso_binomial</td>\n",
       "      <td>lasso</td>\n",
       "      <td>ensemble.1.1</td>\n",
       "      <td>1</td>\n",
       "      <td>8.768178</td>\n",
       "      <td>0.763043</td>\n",
       "      <td>0.505671</td>\n",
       "      <td>OG0001324</td>\n",
       "    </tr>\n",
       "    <tr>\n",
       "      <th>98</th>\n",
       "      <td>validation</td>\n",
       "      <td>lasso_binomial</td>\n",
       "      <td>lasso</td>\n",
       "      <td>ensemble.1.1</td>\n",
       "      <td>1</td>\n",
       "      <td>10.291649</td>\n",
       "      <td>0.764455</td>\n",
       "      <td>0.505793</td>\n",
       "      <td>OG0001324</td>\n",
       "    </tr>\n",
       "    <tr>\n",
       "      <th>99</th>\n",
       "      <td>validation</td>\n",
       "      <td>lasso_binomial</td>\n",
       "      <td>lasso</td>\n",
       "      <td>ensemble.1.1</td>\n",
       "      <td>1</td>\n",
       "      <td>11.931586</td>\n",
       "      <td>0.765442</td>\n",
       "      <td>0.505811</td>\n",
       "      <td>OG0001324</td>\n",
       "    </tr>\n",
       "  </tbody>\n",
       "</table>\n",
       "<p>300 rows × 9 columns</p>\n",
       "</div>"
      ],
      "text/plain": [
       "       data_set       fs_method learner ensemble_model_name  positive_class  \\\n",
       "0   development  lasso_binomial   lasso        ensemble.1.1               1   \n",
       "1   development  lasso_binomial   lasso        ensemble.1.1               1   \n",
       "2   development  lasso_binomial   lasso        ensemble.1.1               1   \n",
       "3   development  lasso_binomial   lasso        ensemble.1.1               1   \n",
       "4   development  lasso_binomial   lasso        ensemble.1.1               1   \n",
       "..          ...             ...     ...                 ...             ...   \n",
       "95   validation  lasso_binomial   lasso        ensemble.1.1               1   \n",
       "96   validation  lasso_binomial   lasso        ensemble.1.1               1   \n",
       "97   validation  lasso_binomial   lasso        ensemble.1.1               1   \n",
       "98   validation  lasso_binomial   lasso        ensemble.1.1               1   \n",
       "99   validation  lasso_binomial   lasso        ensemble.1.1               1   \n",
       "\n",
       "    feature_x_value  probability   novelty Orthogroup  \n",
       "0          0.095308     0.777533  0.507525  OG0000480  \n",
       "1          0.124191     0.756869  0.504304  OG0000480  \n",
       "2          0.153819     0.736123  0.501417  OG0000480  \n",
       "3          0.184534     0.715145  0.499034  OG0000480  \n",
       "4          0.216679     0.692553  0.495968  OG0000480  \n",
       "..              ...          ...       ...        ...  \n",
       "95         6.081875     0.757970  0.505387  OG0001324  \n",
       "96         7.363983     0.760996  0.505559  OG0001324  \n",
       "97         8.768178     0.763043  0.505671  OG0001324  \n",
       "98        10.291649     0.764455  0.505793  OG0001324  \n",
       "99        11.931586     0.765442  0.505811  OG0001324  \n",
       "\n",
       "[300 rows x 9 columns]"
      ]
     },
     "execution_count": 5,
     "metadata": {},
     "output_type": "execute_result"
    }
   ],
   "source": [
    "#concatting hits \n",
    "OG_pds = pd.concat(df_list)\n",
    "OG_pds"
   ]
  },
  {
   "cell_type": "code",
   "execution_count": 6,
   "id": "0637d64a-d934-4bce-b527-1928db8b7ff2",
   "metadata": {},
   "outputs": [],
   "source": [
    "#partial dependence plots can be made for either model development or model validation. We are choosing to look at validation\n",
    "OG_pds_validation = OG_pds.loc[OG_pds[\"data_set\"] == \"validation\"]"
   ]
  },
  {
   "cell_type": "code",
   "execution_count": 7,
   "id": "71bc2a47-a303-42fa-84cc-f7fb8b01074d",
   "metadata": {},
   "outputs": [
    {
     "name": "stderr",
     "output_type": "stream",
     "text": [
      "/Users/adairborges/miniconda3/envs/jupyter/lib/python3.11/site-packages/seaborn/_oldcore.py:1498: FutureWarning: is_categorical_dtype is deprecated and will be removed in a future version. Use isinstance(dtype, CategoricalDtype) instead\n",
      "  if pd.api.types.is_categorical_dtype(vector):\n",
      "/Users/adairborges/miniconda3/envs/jupyter/lib/python3.11/site-packages/seaborn/_oldcore.py:1498: FutureWarning: is_categorical_dtype is deprecated and will be removed in a future version. Use isinstance(dtype, CategoricalDtype) instead\n",
      "  if pd.api.types.is_categorical_dtype(vector):\n",
      "/Users/adairborges/miniconda3/envs/jupyter/lib/python3.11/site-packages/seaborn/_oldcore.py:1498: FutureWarning: is_categorical_dtype is deprecated and will be removed in a future version. Use isinstance(dtype, CategoricalDtype) instead\n",
      "  if pd.api.types.is_categorical_dtype(vector):\n",
      "/Users/adairborges/miniconda3/envs/jupyter/lib/python3.11/site-packages/seaborn/_oldcore.py:1498: FutureWarning: is_categorical_dtype is deprecated and will be removed in a future version. Use isinstance(dtype, CategoricalDtype) instead\n",
      "  if pd.api.types.is_categorical_dtype(vector):\n",
      "/Users/adairborges/miniconda3/envs/jupyter/lib/python3.11/site-packages/seaborn/_oldcore.py:1498: FutureWarning: is_categorical_dtype is deprecated and will be removed in a future version. Use isinstance(dtype, CategoricalDtype) instead\n",
      "  if pd.api.types.is_categorical_dtype(vector):\n",
      "/Users/adairborges/miniconda3/envs/jupyter/lib/python3.11/site-packages/seaborn/_oldcore.py:1119: FutureWarning: use_inf_as_na option is deprecated and will be removed in a future version. Convert inf values to NaN before operating instead.\n",
      "  with pd.option_context('mode.use_inf_as_na', True):\n",
      "/Users/adairborges/miniconda3/envs/jupyter/lib/python3.11/site-packages/seaborn/_oldcore.py:1119: FutureWarning: use_inf_as_na option is deprecated and will be removed in a future version. Convert inf values to NaN before operating instead.\n",
      "  with pd.option_context('mode.use_inf_as_na', True):\n"
     ]
    },
    {
     "data": {
      "image/png": "[encoded data removed]",
      "text/plain": [
       "<Figure size 460.8x345.6 with 1 Axes>"
      ]
     },
     "metadata": {},
     "output_type": "display_data"
    }
   ],
   "source": [
    "#making PD plots for the 3 orthogroups \n",
    "sns.lineplot(x=\"feature_x_value\",y=\"probability\",data=OG_pds_validation, hue = \"Orthogroup\")\n",
    "\n",
    "plt.xlabel('Gene copy number')\n",
    "plt.savefig(\"../outputs/hits_validation_pd_plots.pdf\", bbox_inches=\"tight\")\n",
    "plt.show()"
   ]
  },
  {
   "cell_type": "markdown",
   "id": "e28ab5da-943c-4a9f-a274-31072bdc5398",
   "metadata": {},
   "source": [
    "### Looking at annotations for top hits OG0001324, OG0000058, and OG0000480\n",
    "#### OG0001324 = IL-17 like (not protease inhibitors)\n",
    "#### OG0000058 = TIL domain protease inhibitors \n",
    "#### OG0000480 = alpha-2-macroglobulin protease inhibitors\n",
    "\n",
    "\n"
   ]
  },
  {
   "cell_type": "code",
   "execution_count": 31,
   "id": "a8ff6dda-8265-43d7-8d0a-5d6d17a8e7c7",
   "metadata": {},
   "outputs": [],
   "source": [
    "#reading in high confidence protease inhibitor orthogroups\n",
    "HQ_num_df_filtered = pd.read_csv(\"../datasheets/PI_orthogroups_high_qual_06112023.tsv\", sep = \"\\t\")\n",
    "HQ_num_df_filtered[\"confidence\"] = \"high confidence\""
   ]
  },
  {
   "cell_type": "code",
   "execution_count": 32,
   "id": "b8f8cdd3-bcf5-4eab-abdf-51b6824a9600",
   "metadata": {},
   "outputs": [],
   "source": [
    "#reading in low confidence protease inhibitor orthogroups\n",
    "LQ_num_df_filtered = pd.read_csv(\"../datasheets/PI_orthogroups_low_qual_06112023.tsv\", sep = \"\\t\")\n",
    "LQ_num_df_filtered[\"confidence\"] = \"low confidence\""
   ]
  },
  {
   "cell_type": "code",
   "execution_count": 33,
   "id": "5e7eaba3-8777-4882-a3f3-7accccfd26bd",
   "metadata": {},
   "outputs": [],
   "source": [
    "#combining into one df since we analyzed them together anyway\n",
    "input_orthogroups = pd.concat([HQ_num_df_filtered, LQ_num_df_filtered])"
   ]
  },
  {
   "cell_type": "code",
   "execution_count": 8,
   "id": "1fff9605-0a7b-4506-a96b-6d8baffca612",
   "metadata": {},
   "outputs": [],
   "source": [
    "#reading in file that has all annotations for all chelicerate proteins\n",
    "all_df = pd.read_csv(\"../../25aacutoff_fullset_100223_annotated/all_chelicerate_proteins_annotated_plus_orthogroups_plus_clusters.csv\")"
   ]
  },
  {
   "cell_type": "code",
   "execution_count": 57,
   "id": "48796d04-ba2e-4b1d-94a7-cf71a1c8fe49",
   "metadata": {},
   "outputs": [
    {
     "name": "stdout",
     "output_type": "stream",
     "text": [
      "PI_cluster\n",
      "{nan, 'BadTM-Kazal-IGF'}    72\n",
      "Name: count, dtype: int64\n",
      "confidence\n",
      "low confidence    72\n",
      "Name: count, dtype: int64\n",
      "Series([], Name: count, dtype: int64)\n",
      "KO_pass\n",
      "nan;nan;nan;nan;nan    64\n",
      "nan;nan;nan             1\n",
      "nan;nan;nan;nan         1\n",
      "Name: count, dtype: int64\n",
      "KO_definition\n",
      "interleukin 17C;interleukin 17F;interleukin 17E;interleukin 17B;interleukin 17D    7\n",
      "interleukin 17C;interleukin 17F;interleukin 17E;interleukin 17D;interleukin 17B    5\n",
      "interleukin 17C;interleukin 17F;interleukin 17E;interleukin 17D;interleukin 17A    4\n",
      "Name: count, dtype: int64\n"
     ]
    }
   ],
   "source": [
    "#subsetting to OG0001324: From low confidence PI cluster, Egg has no annotation, and there is no KO annotation that passes the threshold. \n",
    "#However, these proteins consistently get below-treshold annotations as IL-17 like proteins!\n",
    "OG1324 = all_df.loc[all_df[\"Orthogroup\"] == \"OG0001324\"]\n",
    "\n",
    "#adding in data from input orthogroups\n",
    "OG1324 = OG1324.merge(input_orthogroups, on = \"Orthogroup\", how = \"left\")\n",
    "\n",
    "print(OG1324.value_counts(\"PI_cluster\")) \n",
    "print(OG1324.value_counts(\"confidence\")) \n",
    "print(OG1324.value_counts(\"egg_Description\").head(3)) \n",
    "print(OG1324.value_counts(\"KO_pass\").head(3) )\n",
    "print(OG1324.value_counts(\"KO_definition\").head(3) )"
   ]
  },
  {
   "cell_type": "code",
   "execution_count": 55,
   "id": "5a424fac-582c-4700-969f-3835a043f06b",
   "metadata": {},
   "outputs": [
    {
     "name": "stdout",
     "output_type": "stream",
     "text": [
      "PI_cluster\n",
      "{'TIL', nan}    458\n",
      "Name: count, dtype: int64\n",
      "confidence\n",
      "high confidence    458\n",
      "Name: count, dtype: int64\n",
      "egg_Description\n",
      "Trypsin Inhibitor like cysteine rich domain    92\n",
      "Cysteine-rich venom protein                    85\n",
      "calcium ion binding                             5\n",
      "Name: count, dtype: int64\n",
      "KO_pass\n",
      "nan;nan;nan;nan;nan    316\n",
      "nan;nan;nan;nan         45\n",
      "nan;nan;nan             38\n",
      "Name: count, dtype: int64\n",
      "KO_definition\n",
      "zonadhesin;von Willebrand factor;alpha-tectorin;SCO-spondin;mucin-6/19    4\n",
      "Bardet-Biedl syndrome 9 protein                                           4\n",
      "zonadhesin;von Willebrand factor;SCO-spondin;alpha-tectorin;mucin-6/19    4\n",
      "Name: count, dtype: int64\n"
     ]
    }
   ],
   "source": [
    "#subsetting to OG0000058: From high confidence PI cluster annotated as trypsin inhibitor like protease inhibitors\n",
    "OG0000058 = all_df.loc[all_df[\"Orthogroup\"] == \"OG0000058\"]\n",
    "\n",
    "#adding in data from input orthogroups\n",
    "OG0000058 = OG0000058.merge(input_orthogroups, on = \"Orthogroup\", how = \"left\")\n",
    "\n",
    "print(OG0000058.value_counts(\"PI_cluster\")) \n",
    "print(OG0000058.value_counts(\"confidence\")) \n",
    "print(OG0000058.value_counts(\"egg_Description\").head(3)) \n",
    "print(OG0000058.value_counts(\"KO_pass\").head(3) )\n",
    "print(OG0000058.value_counts(\"KO_definition\").head(3) )"
   ]
  },
  {
   "cell_type": "code",
   "execution_count": 56,
   "id": "01d49d3a-28e5-44c3-baa0-d64db2af0112",
   "metadata": {},
   "outputs": [
    {
     "name": "stdout",
     "output_type": "stream",
     "text": [
      "PI_cluster\n",
      "{'BadTM-Kazal-A2M', nan}    132\n",
      "Name: count, dtype: int64\n",
      "confidence\n",
      "low confidence    132\n",
      "Name: count, dtype: int64\n",
      "egg_Description\n",
      "endopeptidase inhibitor activity    85\n",
      "Alpha-2-Macroglobulin               35\n",
      "A-macroglobulin receptor             6\n",
      "Name: count, dtype: int64\n",
      "KO_pass\n",
      "nan;nan;nan;nan;nan    108\n",
      "nan;nan                  5\n",
      "nan;nan;nan              5\n",
      "Name: count, dtype: int64\n",
      "KO_definition\n",
      "CD109 antigen;alpha-2-macroglobulin-like protein;alpha-2-macroglobulin;pregnancy zone protein;complement component 4    11\n",
      "CD109 antigen;alpha-2-macroglobulin-like protein;pregnancy zone protein;alpha-2-macroglobulin;complement component 4     9\n",
      "CD109 antigen                                                                                                            8\n",
      "Name: count, dtype: int64\n"
     ]
    }
   ],
   "source": [
    "#subsetting to OG0000480: From low confidence PI cluster, Egg and KO agree that it is likely an alpha-2-macroglobulin protease inhibitor\n",
    "OG0000480 = all_df.loc[all_df[\"Orthogroup\"] == \"OG0000480\"]\n",
    "\n",
    "#adding in data from input orthogroups\n",
    "OG0000480 = OG0000480.merge(input_orthogroups, on = \"Orthogroup\", how = \"left\")\n",
    "\n",
    "print(OG0000480.value_counts(\"PI_cluster\")) \n",
    "print(OG0000480.value_counts(\"confidence\")) \n",
    "print(OG0000480.value_counts(\"egg_Description\").head(3)) \n",
    "print(OG0000480.value_counts(\"KO_pass\").head(3) )\n",
    "print(OG0000480.value_counts(\"KO_definition\").head(3) )"
   ]
  },
  {
   "cell_type": "markdown",
   "id": "74a291ea-4a52-49ed-8a07-7a43f46875c8",
   "metadata": {},
   "source": [
    "### Evaluating salivary gland expression for OG0000058, the highest postively scoring protease inhibitor family "
   ]
  },
  {
   "cell_type": "code",
   "execution_count": 40,
   "id": "ab987d76-84d6-4e99-a67c-099014e8a6f1",
   "metadata": {},
   "outputs": [],
   "source": [
    "#reading in salivary gland expression levels in female Amblyomma americanum ticks\n",
    "fem_sal = pd.read_csv(\"../datasheets/genes_by_expression_female_x_salivary_gland.csv\")\n"
   ]
  },
  {
   "cell_type": "code",
   "execution_count": 46,
   "id": "d1756cb1-f4f8-43e8-932d-81d8a4a65ef6",
   "metadata": {},
   "outputs": [],
   "source": [
    "#merge \n",
    "OG58_salex = OG58.merge(fem_sal, left_on = \"gene_name\", right_on = \"gene\", how = \"left\")\n"
   ]
  },
  {
   "cell_type": "code",
   "execution_count": 47,
   "id": "54dd6b71-91b4-4f84-ad33-f7e6c4b94dcd",
   "metadata": {},
   "outputs": [],
   "source": [
    "#only moving forward with secreted proteins that are sometimes or always expressed in female salivary gland\n",
    "targets = OG58_salex.loc[(OG58_salex[\"expression_category\"] == \"always\") | (OG58_salex[\"expression_category\"] == \"sometimes\") ]\n",
    "secreted_targets = targets.loc[targets[\"deepsig_feature\"] == \"Signal peptide\"]"
   ]
  },
  {
   "cell_type": "code",
   "execution_count": 48,
   "id": "24291390-8704-45e2-a8a3-3a9b2f853cde",
   "metadata": {},
   "outputs": [
    {
     "data": {
      "text/plain": [
       "Text(0.5, 0, 'Expression in female salivary gland: max_vst')"
      ]
     },
     "execution_count": 48,
     "metadata": {},
     "output_type": "execute_result"
    },
    {
     "data": {
      "image/png": "[encoded data removed]",
      "text/plain": [
       "<Figure size 460.8x345.6 with 1 Axes>"
      ]
     },
     "metadata": {},
     "output_type": "display_data"
    }
   ],
   "source": [
    "#plotting out relative expression levels of selected genes\n",
    "plt.hist(secreted_targets[\"max_vst\"])\n",
    "plt.xlabel(\"Expression in female salivary gland: max_vst\")"
   ]
  },
  {
   "cell_type": "code",
   "execution_count": 49,
   "id": "502f6d54-5b51-4947-9d0f-0a692869fb0d",
   "metadata": {},
   "outputs": [
    {
     "data": {
      "text/plain": [
       "10"
      ]
     },
     "execution_count": 49,
     "metadata": {},
     "output_type": "execute_result"
    }
   ],
   "source": [
    "#getting rid of the lowest expressed proteins (max_vst is less than 1) \n",
    "secreted_targets_58 = secreted_targets.loc[secreted_targets[\"max_vst\"]>1]\n",
    "len(secreted_targets_58)"
   ]
  },
  {
   "cell_type": "markdown",
   "id": "93e981d3-eb56-4090-8fbe-3aa93c463cf4",
   "metadata": {},
   "source": [
    "### This filtering leaves us with 10 secreted salivary expressed trypsin like inhibitors from Amblyomma americanum\n",
    "#### Writing out: \"../datasheets/Amblyomma-americanum_OG0000058_candidates.tsv\""
   ]
  },
  {
   "cell_type": "code",
   "execution_count": 50,
   "id": "03cf6d7f-12b0-4675-9d04-485798846ddd",
   "metadata": {},
   "outputs": [
    {
     "data": {
      "text/plain": [
       "426     Amblyomma-americanum_evm.model.contig-94090-1.4\n",
       "429     Amblyomma-americanum_evm.model.contig-76089-1.2\n",
       "431      Amblyomma-americanum_evm.model.contig-8661-1.1\n",
       "435     Amblyomma-americanum_evm.model.contig-30987-1.8\n",
       "437    Amblyomma-americanum_evm.model.contig-128153-1.1\n",
       "439    Amblyomma-americanum_evm.model.contig-234199-1.1\n",
       "440    Amblyomma-americanum_evm.model.contig-240510-1.2\n",
       "447    Amblyomma-americanum_evm.model.contig-114817-1.1\n",
       "448    Amblyomma-americanum_evm.model.contig-195898-1.1\n",
       "450    Amblyomma-americanum_evm.model.contig-48378-1.17\n",
       "Name: gene_name, dtype: object"
      ]
     },
     "execution_count": 50,
     "metadata": {},
     "output_type": "execute_result"
    }
   ],
   "source": [
    "#this leaves us with 10 genes\n",
    "secreted_targets_58[\"gene_name\"]"
   ]
  },
  {
   "cell_type": "code",
   "execution_count": 53,
   "id": "5e4f1dab-7df7-4806-b79d-bc3f41e884a7",
   "metadata": {},
   "outputs": [],
   "source": [
    "#writing out \n",
    "secreted_targets_58[[\"gene_name\", \"Orthogroup\",\"deepsig_start\",\t\"deepsig_end\"]].to_csv(\"../datasheets/Amblyomma-americanum_OG0000058_candidates.tsv\", sep = \"\\t\", index = False)"
   ]
  }
 ],
 "metadata": {
  "kernelspec": {
   "display_name": "Python 3 (ipykernel)",
   "language": "python",
   "name": "python3"
  },
  "language_info": {
   "codemirror_mode": {
    "name": "ipython",
    "version": 3
   },
   "file_extension": ".py",
   "mimetype": "text/x-python",
   "name": "python",
   "nbconvert_exporter": "python",
   "pygments_lexer": "ipython3",
   "version": "3.11.5"
  }
 },
 "nbformat": 4,
 "nbformat_minor": 5
}
