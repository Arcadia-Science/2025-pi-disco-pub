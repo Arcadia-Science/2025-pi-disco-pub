{
 "cells": [
  {
   "cell_type": "markdown",
   "id": "829a0eaa-765e-47c9-9a49-078757b4d57f",
   "metadata": {},
   "source": [
    "### This notebook selects tick protease inhibitors and secreted proteins of unknown function for folding with ESMfold.  \n",
    "\n",
    "This uses sequence based protein annotations of the 40 chelicerate proteomes used in our previous work [here](https://research.arcadiascience.com/pub/result-chelicerate-detection-suppression/release/2?readingCollection=3a9d6cf5) processed with our [annotation pipeline](https://github.com/Arcadia-Science/protein-data-curation/tree/v1.2). I am pulling protease inhibitors and secreted proteins of unknown function for further analysis with [ProteinCartography](https://github.com/Arcadia-Science/ProteinCartography). \n",
    "\n",
    "#### Inputs: \n",
    "Chelicerate protein annotations: ../../25aacutoff_fullset_100223_annotated/all_chelicerate_proteins_annotated.csv \n",
    "\n",
    "#### Outputs: \n",
    "Tick predicted protease inhibitors <1200 aa, for folding: ../datasheets/tick_PIs_1200.csv \\\n",
    "Tick secreted proteins of unknown function (PUFs) <1200aa, for folding: ../datasheets/tick_PUFs_1200.csv \n"
   ]
  },
  {
   "cell_type": "code",
   "execution_count": 1,
   "id": "6558d004-e867-4e74-b5b4-f6a507838177",
   "metadata": {},
   "outputs": [],
   "source": [
    "import pandas as pd\n",
    "import numpy as np\n",
    "import glob\n",
    "from collections import defaultdict\n",
    "pd.set_option('display.max_columns', None)"
   ]
  },
  {
   "cell_type": "markdown",
   "id": "d29f3986-0a4e-4120-a9af-772620be9816",
   "metadata": {},
   "source": [
    "### Reading concatenated file of chelicerate proteome annotations\n"
   ]
  },
  {
   "cell_type": "code",
   "execution_count": 10,
   "id": "78fb0a50-2c19-4f3d-afdf-c7b952798c4a",
   "metadata": {},
   "outputs": [],
   "source": [
    "all_df = pd.read_csv(\"../../25aacutoff_fullset_100223_annotated/all_chelicerate_proteins_annotated.csv\")\n"
   ]
  },
  {
   "cell_type": "markdown",
   "id": "13727991-ae2a-4a8e-8789-b54392d2461f",
   "metadata": {},
   "source": [
    "### Labelling the tick species "
   ]
  },
  {
   "cell_type": "code",
   "execution_count": 3,
   "id": "a01981b9-30fb-43c0-9364-f5bde0c61698",
   "metadata": {},
   "outputs": [],
   "source": [
    "tick_list = [\"Amblyomma-sculptum\", \"Rhipicephalus-microplus\", \"Ornithodoros-erraticus\", \"Dermacentor-variabilis\", \"Ixodes-scapularis\", \n",
    "         \"Ixodes-ricinus\", \"Dermacentor-silvarum\", \"Dermacentor-andersoni\", \"Haemaphysalis-longicornis\", \"Ornithodoros-moubata\", \n",
    "         \"Ixodes-persulcatus\",\"Hyalomma-asiaticum\", \"Ornithodoros-turicata\", \"Rhipicephalus-sanguineus\", \"Amblyomma-americanum\" ]"
   ]
  },
  {
   "cell_type": "code",
   "execution_count": 4,
   "id": "420129f0-6249-41dc-8753-c042acaff27a",
   "metadata": {},
   "outputs": [],
   "source": [
    "def label_ticks(species_list):\n",
    "    answers = []\n",
    "    for species in species_list:\n",
    "        if species in tick_list:\n",
    "            answers.append(\"yes\")\n",
    "        else:\n",
    "            answers.append(\"no\")\n",
    "    return(answers)"
   ]
  },
  {
   "cell_type": "code",
   "execution_count": 5,
   "id": "3b681863-b65f-42f5-a834-7fb5b186f5f7",
   "metadata": {},
   "outputs": [],
   "source": [
    "all_df[\"is_tick\"] = label_ticks(all_df[\"species_name\"].to_list()) \n"
   ]
  },
  {
   "cell_type": "code",
   "execution_count": 6,
   "id": "d58c0814-0950-4dd7-a2d6-8d0b08fdac63",
   "metadata": {},
   "outputs": [
    {
     "data": {
      "text/plain": [
       "species_name\n",
       "Ornithodoros-turicata        29460\n",
       "Amblyomma-americanum         28319\n",
       "Hyalomma-asiaticum           27478\n",
       "Ixodes-persulcatus           26020\n",
       "Ornithodoros-moubata         24072\n",
       "Haemaphysalis-longicornis    23853\n",
       "Dermacentor-andersoni        22845\n",
       "Dermacentor-silvarum         22392\n",
       "Rhipicephalus-sanguineus     20838\n",
       "Ixodes-scapularis            20386\n",
       "Ixodes-ricinus               19280\n",
       "Dermacentor-variabilis       18937\n",
       "Ornithodoros-erraticus       18386\n",
       "Rhipicephalus-microplus      17235\n",
       "Amblyomma-sculptum           11655\n",
       "Name: count, dtype: int64"
      ]
     },
     "execution_count": 6,
     "metadata": {},
     "output_type": "execute_result"
    }
   ],
   "source": [
    "#how many tick proteins are there for each tick species \n",
    "all_df.loc[all_df[\"is_tick\"] == \"yes\"].value_counts(\"species_name\") "
   ]
  },
  {
   "cell_type": "markdown",
   "id": "f6132e2f-62e4-4241-a636-ed86d8daafe0",
   "metadata": {},
   "source": [
    "### Reformatting the KO annotations to retrieve the top KO hit in a seperate column called \"KO_high_score\"\n"
   ]
  },
  {
   "cell_type": "markdown",
   "id": "c585d093-af7b-4609-b273-155257c49c74",
   "metadata": {},
   "source": [
    "#### Some notes on annotation confidence:\n",
    "-  Eggnog reports evalues <0.001. This resulted in a lot of annotations (one annotation/protein, but high coverage of the total proteome) and the annotations I spot checked looked real. \n",
    "-  KO annotations use a per-HMM scoring metric though, where each HMM has a score that the hit has to beat in order to be legit. This resulted in a very tiny pool of annotations from KO,which was basically just a subset of the eggnog annotations. This made them not useful. \n",
    "-  So instead, we decided to report the top 5 KO annotations for each protein that had evalues <0.001. This made the KO pool a lot bigger than the Eggnog pool, so KO annotations here should be considered to be less stringent than the Eggnog annotations. \n",
    "-  Spot checking suggests that KO annotations down to around a score of 50 are pretty good  \n",
    "- KOs that actually pass the threshold are marked with an * in KO_pass "
   ]
  },
  {
   "cell_type": "code",
   "execution_count": 7,
   "id": "bc39d05e-8f11-46e5-b825-41dd6679b656",
   "metadata": {},
   "outputs": [],
   "source": [
    "def get_high(score_list):\n",
    "    answer_list = []\n",
    "    for score in score_list:\n",
    "        if score == \"None\":\n",
    "            answer = 0\n",
    "        else:\n",
    "            answer = float(score.split(\";\")[0])\n",
    "        answer_list.append(answer)\n",
    "    return(answer_list)"
   ]
  },
  {
   "cell_type": "code",
   "execution_count": 8,
   "id": "53e8ff88-f078-427e-b618-5bdf4274519b",
   "metadata": {},
   "outputs": [],
   "source": [
    "all_df[\"KO_high_score\"] = get_high(all_df[\"KO_score\"].to_list())\n",
    "\n",
    "#write full combined annotations to csv - will be on zenodo \n",
    "all_df.to_csv(\"../../25aacutoff_fullset_100223_annotated/all_chelicerate_proteins_annotated.csv\", index = False) "
   ]
  },
  {
   "cell_type": "markdown",
   "id": "1603b2cd-4d39-43d2-b9fd-6e54d61f7611",
   "metadata": {},
   "source": [
    "### Pulling all the proteins that have an EGGNOG annotation related to protease inhibitor function\n"
   ]
  },
  {
   "cell_type": "code",
   "execution_count": 49,
   "id": "9fad282a-b5e3-4814-a63b-59703ad09499",
   "metadata": {},
   "outputs": [],
   "source": [
    "egg_protease_inhibitors = all_df.loc[all_df[\"egg_Description\"].str.contains(\"protease inhibitor\", case = False)]\n",
    "egg_propeptide_inhibitor = all_df.loc[all_df[\"egg_Description\"].str.contains(\"propeptide inhibitor\", case = False)]\n",
    "egg_peptidase_inhibitor = all_df.loc[all_df[\"egg_Description\"].str.contains(\"peptidase inhibitor\", case = False)]\n",
    "egg_proteinase_inhibitor = all_df.loc[all_df[\"egg_Description\"].str.contains(\"proteinase inhibitor\", case = False)]\n",
    "\n",
    "\n",
    "egg_serpin = all_df.loc[all_df[\"egg_Description\"].str.contains(\"serpin\", case = False)]\n",
    "egg_cystatin = all_df.loc[all_df[\"egg_Description\"].str.contains(\"cystatin\", case = False)]\n",
    "egg_kazal = all_df.loc[all_df[\"egg_Description\"].str.contains(\"kazal\", case = False)]\n",
    "egg_a2m = all_df.loc[all_df[\"egg_Description\"].str.contains(\"alpha-2-macroglobulin\", case = False)]\n",
    "egg_TIMP = all_df.loc[all_df[\"egg_Description\"].str.contains(\"tissue factor pathway inhibitor\", case = False)]\n",
    "egg_Pacifastin = all_df.loc[all_df[\"egg_Description\"].str.contains(\"Pacifastin\", case = False)]\n",
    "egg_plai = all_df.loc[all_df[\"egg_Description\"].str.contains(\"Plasminogen activator inhibitor\", case = False)]\n",
    "egg_kallistatin = all_df.loc[all_df[\"egg_Description\"].str.contains(\"kallistatin\", case = False)]\n",
    "\n",
    "\n",
    "egg_a2m = all_df.loc[all_df[\"egg_Description\"].str.contains(\"alpha-2-macroglobulin\", case = False)]\n",
    "egg_a2m = egg_a2m.loc[~egg_a2m[\"egg_Description\"].str.contains(\"macroglobulin receptor\")]\n",
    "\n",
    "egg_PI_df = pd.concat([egg_kallistatin, egg_plai, egg_Pacifastin,egg_TIMP,egg_a2m,egg_kazal,egg_cystatin,egg_serpin,egg_protease_inhibitors, egg_propeptide_inhibitor, egg_peptidase_inhibitor, egg_proteinase_inhibitor]).drop_duplicates()\n",
    "\n"
   ]
  },
  {
   "cell_type": "markdown",
   "id": "161b1c74-24f3-47ec-b332-a4155da6cde4",
   "metadata": {},
   "source": [
    "### Pulling all the proteins that have an KO annotation related to protease inhibitor function\n"
   ]
  },
  {
   "cell_type": "code",
   "execution_count": 50,
   "id": "9210122e-537a-4348-96de-75ae222a953c",
   "metadata": {},
   "outputs": [],
   "source": [
    "KO_protease_inhibitors = all_df.loc[all_df[\"KO_definition\"].str.contains(\"protease inhibitor\", case = False)]\n",
    "KO_propeptide_inhibitor = all_df.loc[all_df[\"KO_definition\"].str.contains(\"propeptide inhibitor\", case = False)]\n",
    "KO_peptidase_inhibitor = all_df.loc[all_df[\"KO_definition\"].str.contains(\"peptidase inhibitor\", case = False)]\n",
    "KO_proteinase_inhibitor = all_df.loc[all_df[\"KO_definition\"].str.contains(\"proteinase inhibitor\", case = False)]\n",
    "\n",
    "KO_serpin = all_df.loc[all_df[\"KO_definition\"].str.contains(\"serpin\", case = False)]\n",
    "KO_cystatin = all_df.loc[all_df[\"KO_definition\"].str.contains(\"cystatin\", case = False)]\n",
    "KO_kazal = all_df.loc[all_df[\"KO_definition\"].str.contains(\"kazal\", case = False)]\n",
    "KO_TIMP = all_df.loc[all_df[\"KO_definition\"].str.contains(\"tissue factor pathway inhibitor\", case = False)]\n",
    "KO_Pacifastin = all_df.loc[all_df[\"KO_definition\"].str.contains(\"Pacifastin\", case = False)]\n",
    "KO_plai = all_df.loc[all_df[\"KO_definition\"].str.contains(\"Plasminogen activator inhibitor\", case = False)]\n",
    "KO_kallistatin = all_df.loc[all_df[\"KO_definition\"].str.contains(\"Kallistatin\", case = False)]\n",
    "\n",
    "\n",
    "KO_a2m = all_df.loc[all_df[\"KO_definition\"].str.contains(\"alpha-2-macroglobulin\", case = False)]\n",
    "KO_a2m = KO_a2m.loc[~KO_a2m[\"KO_definition\"].str.contains(\"macroglobulin receptor\")]\n",
    "\n",
    "\n",
    "KO_PI_df = pd.concat([KO_kallistatin,KO_plai, KO_Pacifastin,KO_TIMP,KO_a2m,KO_kazal,KO_cystatin,KO_serpin,KO_protease_inhibitors, KO_propeptide_inhibitor, KO_peptidase_inhibitor, KO_proteinase_inhibitor]).drop_duplicates()\n"
   ]
  },
  {
   "cell_type": "markdown",
   "id": "efb8df12-e377-4c0f-985d-1a63312702dc",
   "metadata": {},
   "source": [
    "### Combining KO and EGGNOG protease inhibitors into one df and getting tick protease inhibitors"
   ]
  },
  {
   "cell_type": "code",
   "execution_count": 51,
   "id": "b6e0e8de-b316-4db8-a1f3-a4ae8e20f771",
   "metadata": {},
   "outputs": [],
   "source": [
    "# all protease inhibitors \n",
    "all_PI_df = pd.concat([KO_PI_df, egg_PI_df])\n",
    "all_PI_df = all_PI_df.drop_duplicates()\n"
   ]
  },
  {
   "cell_type": "code",
   "execution_count": 52,
   "id": "32e4ba0b-32ee-4609-b76e-7c327bcbd2cf",
   "metadata": {},
   "outputs": [],
   "source": [
    "# all tick protease inhibitors \n",
    "tick_PI_df = all_PI_df.loc[all_PI_df[\"is_tick\"] == \"yes\"]"
   ]
  },
  {
   "cell_type": "code",
   "execution_count": 53,
   "id": "fff790cd-6269-47bd-875c-e6eb16162f14",
   "metadata": {},
   "outputs": [
    {
     "data": {
      "text/plain": [
       "3580"
      ]
     },
     "execution_count": 53,
     "metadata": {},
     "output_type": "execute_result"
    }
   ],
   "source": [
    "len(tick_PI_df)"
   ]
  },
  {
   "cell_type": "markdown",
   "id": "1c7ac1af-f194-437b-b431-bc4e386f2c71",
   "metadata": {},
   "source": [
    "### Pulling together all tick secreted PUFs"
   ]
  },
  {
   "cell_type": "code",
   "execution_count": 54,
   "id": "078b42e2-d49f-4b87-950a-cd2a05f6b9e5",
   "metadata": {},
   "outputs": [],
   "source": [
    "# all ticks \n",
    "ticks_df = all_df.loc[all_df[\"is_tick\"] == \"yes\"]"
   ]
  },
  {
   "cell_type": "code",
   "execution_count": 55,
   "id": "e0477b27-be48-4b2c-a833-19dc8d97e776",
   "metadata": {},
   "outputs": [],
   "source": [
    "#secreted proteins of unknown function \n",
    "tick_pufs_secreted = ticks_df.loc[(ticks_df[\"egg_seed_ortholog\"] == \"None\")  & (~ticks_df[\"KO_pass\"].str.contains(\"\\*\")) & (ticks_df[\"deepsig_feature\"] == \"Signal peptide\")]\n"
   ]
  },
  {
   "cell_type": "code",
   "execution_count": 56,
   "id": "5e80a052-8ce6-4340-80b6-9430e00a8580",
   "metadata": {},
   "outputs": [],
   "source": [
    "# removing the proteins that are putative KO protease inhibitors from the PUFs. \n",
    "# This is bc I used a stringent cutoff to define PUFs but a low cutoff to define PIs \n",
    " \n",
    "tick_pufs_secreted_no_PI = (pd.merge(tick_pufs_secreted,all_PI_df, indicator=True, how='outer')\n",
    "         .query('_merge==\"left_only\"')\n",
    "         .drop('_merge', axis=1))"
   ]
  },
  {
   "cell_type": "code",
   "execution_count": 57,
   "id": "a7f8a8d1-8b99-4158-a308-d31fe2acb3d3",
   "metadata": {},
   "outputs": [
    {
     "data": {
      "text/plain": [
       "12137"
      ]
     },
     "execution_count": 57,
     "metadata": {},
     "output_type": "execute_result"
    }
   ],
   "source": [
    "len(tick_pufs_secreted_no_PI)"
   ]
  },
  {
   "cell_type": "markdown",
   "id": "0570fa3c-065e-4042-ae63-b6bd8d3b525f",
   "metadata": {},
   "source": [
    "### Moving forward with tick protease inhibitors and tick secreted proteins of unknown function \n",
    "I will only move forward with the proteins <1200 aa, which are easier to fold "
   ]
  },
  {
   "cell_type": "code",
   "execution_count": 58,
   "id": "74c2a4a3-52fa-4020-b6f6-de6ea29cd3cd",
   "metadata": {},
   "outputs": [],
   "source": [
    "tick_PI_df.loc[tick_PI_df[\"Length\"] <1200].to_csv(\"../datasheets/tick_PIs_1200.csv\", index = False) "
   ]
  },
  {
   "cell_type": "code",
   "execution_count": 59,
   "id": "73e6ee96-6444-4190-a5bc-96ea08dc1d9e",
   "metadata": {},
   "outputs": [],
   "source": [
    "tick_pufs_secreted_no_PI.loc[tick_pufs_secreted_no_PI[\"Length\"] <1200].to_csv(\"../datasheets/tick_PUFs_1200.csv\", index = False) "
   ]
  }
 ],
 "metadata": {
  "kernelspec": {
   "display_name": "Python 3 (ipykernel)",
   "language": "python",
   "name": "python3"
  },
  "language_info": {
   "codemirror_mode": {
    "name": "ipython",
    "version": 3
   },
   "file_extension": ".py",
   "mimetype": "text/x-python",
   "name": "python",
   "nbconvert_exporter": "python",
   "pygments_lexer": "ipython3",
   "version": "3.11.5"
  }
 },
 "nbformat": 4,
 "nbformat_minor": 5
}
