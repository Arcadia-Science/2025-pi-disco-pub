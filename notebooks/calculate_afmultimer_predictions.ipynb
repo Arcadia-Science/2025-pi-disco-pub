{
 "cells": [
  {
   "cell_type": "code",
   "execution_count": null,
   "id": "c968f734-047f-459a-b529-346c0125a2dd",
   "metadata": {},
   "outputs": [],
   "source": [
    "# Import necessary libraries\n",
    "import glob\n",
    "import json\n",
    "import os\n",
    "\n",
    "import pandas as pd\n",
    "\n",
    "# Define your JSON folder and final CSV file name\n",
    "json_folder = \"path/to/your/json/folder\"  # Replace with the actual folder path\n",
    "csv_name = \"protease_results\"  # replace with final file name\n",
    "csv_file_path = os.path.join(json_folder, csv_name + \".csv\")\n",
    "\n",
    "\n",
    "# Modified function to extract pTM, ipTM, and average pLDDT\n",
    "def extract_values(json_file):\n",
    "    with open(json_file) as file:\n",
    "        data = json.load(file)\n",
    "\n",
    "    ptm = data.get(\"ptm\", 0)  # Default to 0 if not found\n",
    "    iptm = data.get(\"iptm\", 0)  # Default to 0 if not found\n",
    "\n",
    "    # Calculate the average pLDDT if pLDDT scores are present\n",
    "    plddt_scores = data.get(\"plddt\", [])\n",
    "    avg_plddt = sum(plddt_scores) / len(plddt_scores) if plddt_scores else 0\n",
    "\n",
    "    return {\"ptm\": ptm, \"iptm\": iptm, \"avg_plddt\": avg_plddt}\n",
    "\n",
    "\n",
    "# Preparation to process JSON files and collect data\n",
    "json_files = glob.glob(os.path.join(json_folder, \"*.json\"))\n",
    "result_data = pd.DataFrame(\n",
    "    columns=[\"Protein_1\", \"Protein_2\", \"pTM\", \"ipTM\", \"Average_pLDDT\", \"Ranking_confidence\"]\n",
    ")\n",
    "\n",
    "# Processing each JSON file\n",
    "for json_file_path in json_files:\n",
    "    file_name = os.path.splitext(os.path.basename(json_file_path))[0]\n",
    "    split_1 = \"_scores\"  # Assumed parameter for splitting\n",
    "    split_2 = \"_vs_\"  # Assumed parameter for splitting\n",
    "\n",
    "    # File naming and splitting logic (remains unchanged)\n",
    "    file_name_parts = file_name.split(split_1)\n",
    "    file_name_short = file_name_parts[0]\n",
    "    protein_names = file_name_short.split(split_2)\n",
    "\n",
    "    if len(protein_names) >= 2:\n",
    "        if protein_names[1].endswith(\"_\"):\n",
    "            protein_2 = protein_names[1].rstrip(\"_\")\n",
    "        else:\n",
    "            protein_2 = protein_names[1]\n",
    "\n",
    "        # Now including average pLDDT in the extraction\n",
    "        values = extract_values(json_file_path)\n",
    "\n",
    "        # Incorporate average pLDDT into the DataFrame\n",
    "        file_data = pd.DataFrame(\n",
    "            {\n",
    "                \"Protein_1\": [protein_names[0]],\n",
    "                \"Protein_2\": [protein_2],\n",
    "                \"pTM\": [values[\"ptm\"]],\n",
    "                \"ipTM\": [values[\"iptm\"]],\n",
    "                \"Average_pLDDT\": [values[\"avg_plddt\"]],\n",
    "                \"Ranking_confidence\": [0.2 * values[\"ptm\"] + 0.8 * values[\"iptm\"]],\n",
    "            }\n",
    "        )\n",
    "\n",
    "        result_data = pd.concat([result_data, file_data], ignore_index=True)\n",
    "\n",
    "# Saving the results\n",
    "result_data.to_csv(csv_file_path, index=False)"
   ]
  }
 ],
 "metadata": {
  "kernelspec": {
   "display_name": "Python 3 (ipykernel)",
   "language": "python",
   "name": "python3"
  },
  "language_info": {
   "codemirror_mode": {
    "name": "ipython",
    "version": 3
   },
   "file_extension": ".py",
   "mimetype": "text/x-python",
   "name": "python",
   "nbconvert_exporter": "python",
   "pygments_lexer": "ipython3",
   "version": "3.12.0"
  },
  "vscode": {
   "interpreter": {
    "hash": "31f2aee4e71d21fbe5cf8b01ff0e069b9275f58929596ceb00d14d90e3e16cd6"
   }
  }
 },
 "nbformat": 4,
 "nbformat_minor": 5
}
