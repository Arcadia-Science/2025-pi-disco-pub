{
 "cells": [
  {
   "cell_type": "markdown",
   "id": "28e0da85-db6e-41a7-8d82-64acaeefc5e3",
   "metadata": {},
   "source": [
    "### This notebook takes target proteins defined in notebook 01 and the tsv output from the ESMfold run and creates a metadata file compatible with ProteinCartography\n",
    "\n",
    "ESMfold input and output is in s3://arcadia-pi-disco/EMSfold_folding/\n",
    "\n",
    "#### Inputs:\n",
    "Target PIs: ../datasheets/tick_PIs_1200.csv \\\n",
    "Target PUFs: ../datasheets/tick_PUFs_1200.csv \\\n",
    "Datasheet from first folding job (copied over from EMSfold_folding): ../datasheets/0912_pi_discovery_succesful_download.tsv \\\n",
    "Datasheet from second folding job (copied over from EMSfold_folding): ../datasheets/1003_pi_discovery_new_succesful_download.tsv\n",
    "\n",
    "#### Outputs:\n",
    "Metadata file for all target tick proteins: ../datasheets/tick_PUFs_PIs_1200_metadata.tsv\n",
    "\n",
    "### Then, it prepares a metadata file for the structural toxin database (toxinDB) so it is ready for ProteinCartography\n",
    "This toxin structural database is  7,008 proteins from the [UniProt animal toxin annotation project](https://www.uniprot.org/help/Toxins). This notebook checks the tsv metadata file that came with this download to ensure it has the right IDs and fields for Cartography, and that it matches the structural database that was downloaded. It then creates a merged tick + toxinDB metadata file for the merged tick + toxinDB Cartography run. \n",
    "\n",
    "#### Inputs:\n",
    "ToxinDB structures: s3://arcadia-amblyomma-proteomics/VenomAnnotatedProteins/tsa_toxin_protein_predictions\t\\\n",
    "ToxinDB annotations: s3://arcadia-amblyomma-proteomics/VenomAnnotatedProteins/toxin_protein_annotations.tsv \n",
    "\n",
    "\n",
    "#### Outputs:\n",
    "Combined tick and toxinDB metadata file: ../datasheets/tick_PUFs_PIs_1200_plus_toxinDB_metadata.tsv"
   ]
  },
  {
   "cell_type": "code",
   "execution_count": 22,
   "id": "4a877d03-9b2d-4a1b-a869-be83252ad2c9",
   "metadata": {},
   "outputs": [],
   "source": [
    "import pandas as pd\n",
    "from collections import defaultdict \n",
    "import glob\n",
    "pd.set_option('display.max_columns', None)"
   ]
  },
  {
   "cell_type": "code",
   "execution_count": 23,
   "id": "38158472-393e-4347-9360-efadc17bf436",
   "metadata": {},
   "outputs": [],
   "source": [
    "#labelling the proteins of uknown function as PUFs\n",
    "PUFs = pd.read_csv(\"../datasheets/tick_PUFs_1200.csv\").fillna(\"None\")\n",
    "PUFs[\"PI_or_PUF\"] = \"PUF\""
   ]
  },
  {
   "cell_type": "code",
   "execution_count": 24,
   "id": "50665362-8392-4854-9852-697b53037b3b",
   "metadata": {},
   "outputs": [],
   "source": [
    "#labelling the proteins with putative protease inhibitor activity as PIs \n",
    "PIs = pd.read_csv(\"../datasheets/tick_PIs_1200.csv\").fillna(\"None\")\n",
    "PIs[\"PI_or_PUF\"] = \"PI\""
   ]
  },
  {
   "cell_type": "code",
   "execution_count": 25,
   "id": "ee6bdb5e-957d-4734-8f3b-a072c3ea4f19",
   "metadata": {},
   "outputs": [
    {
     "data": {
      "text/plain": [
       "15494"
      ]
     },
     "execution_count": 25,
     "metadata": {},
     "output_type": "execute_result"
    }
   ],
   "source": [
    "#combining into one dataframe of target proteins \n",
    "target_proteins = pd.concat([PUFs, PIs])\n",
    "len(target_proteins)"
   ]
  },
  {
   "cell_type": "markdown",
   "id": "5d69b52c-81f0-44fc-80e7-79cceaaba76b",
   "metadata": {},
   "source": [
    "#### Need to give create a taxonomy list using NCBI taxonomy. I copy-pasted each ticks NCBI taxonomy here"
   ]
  },
  {
   "cell_type": "code",
   "execution_count": 26,
   "id": "cce8b081-d694-4f5c-b5f5-c154c5191cf3",
   "metadata": {},
   "outputs": [],
   "source": [
    "tick_to_tax = defaultdict(list) \n",
    "\n",
    "common_tax = ['cellular organisms', 'Eukaryota', 'Opisthokonta', 'Metazoa', 'Eumetazoa', 'Bilateria', 'Protostomia', 'Ecdysozoa', 'Panarthropoda', \n",
    "              'Arthropoda', 'Chelicerata', 'Arachnida', 'Acari', 'Parasitiformes','Ixodida', 'Ixodoidea']"
   ]
  },
  {
   "cell_type": "code",
   "execution_count": 27,
   "id": "46f247b7-0861-4b90-b697-bc51fc9212e6",
   "metadata": {},
   "outputs": [],
   "source": [
    "tick_to_tax[\"Dermacentor-andersoni\"].append(common_tax  + ['Ixodidae', 'Rhipicephalinae', 'Dermacentor'])\n",
    "tick_to_tax[\"Dermacentor-silvarum\"].append(common_tax + ['Ixodidae', 'Rhipicephalinae', 'Dermacentor'])\n",
    "tick_to_tax[\"Rhipicephalus-sanguineus\"].append(common_tax + ['Ixodidae', 'Rhipicephalinae', 'Rhipicephalus', 'Rhipicephalus', 'Rhipicephalus sanguineus group'])\n",
    "tick_to_tax[\"Rhipicephalus-microplus\"].append(common_tax + ['Ixodidae', 'Rhipicephalinae', 'Rhipicephalus', 'Boophilus'])\n",
    "tick_to_tax[\"Hyalomma-asiaticum\"].append(common_tax + ['Ixodidae', 'Hyalomminae', 'Hyalomma'])\n",
    "tick_to_tax[\"Ixodes-scapularis\"].append(common_tax + [ 'Ixodidae', 'Ixodinae', 'Ixodes'])\n",
    "tick_to_tax[\"Ornithodoros-erraticus\"].append(common_tax + ['Argasidae', 'Ornithodorinae', 'Ornithodoros'])\n",
    "tick_to_tax[\"Ixodes-ricinus\"].append(common_tax + ['Ixodidae', 'Ixodinae', 'Ixodes'])\n",
    "tick_to_tax[\"Ornithodoros-moubata\"].append(common_tax + ['Argasidae', 'Ornithodorinae', 'Ornithodoros'])\n",
    "tick_to_tax[\"Ornithodoros-turicata\"].append(common_tax + ['Argasidae', 'Ornithodorinae', 'Ornithodoros'])\n",
    "tick_to_tax[\"Dermacentor-variabilis\"].append(common_tax + [ 'Ixodidae', 'Rhipicephalinae', 'Dermacentor'])\n",
    "tick_to_tax[\"Ixodes-persulcatus\"].append(common_tax + ['Ixodidae', 'Ixodinae', 'Ixodes'])\n",
    "tick_to_tax[\"Haemaphysalis-longicornis\"].append(common_tax + [ 'Ixodidae', 'Haemaphysalinae', 'Haemaphysalis'])\n",
    "tick_to_tax[\"Amblyomma-sculptum\"].append(common_tax + ['Ixodidae', 'Amblyomminae', 'Amblyomma'])\n",
    "tick_to_tax[\"Amblyomma-americanum\"].append(common_tax + [ 'Ixodidae', 'Amblyomminae', 'Amblyomma'])"
   ]
  },
  {
   "cell_type": "code",
   "execution_count": 28,
   "id": "131e62af-1909-4de2-abda-0438361b58b1",
   "metadata": {},
   "outputs": [],
   "source": [
    "#use tick_to_tax dictionary to assign lineage based on species name \n",
    "target_proteins[\"Lineage\"] = target_proteins[\"species_name\"].apply(lambda x: tick_to_tax[x])\n",
    "target_proteins[\"Lineage\"] = target_proteins[\"Lineage\"].apply(lambda x : x[0])"
   ]
  },
  {
   "cell_type": "code",
   "execution_count": 29,
   "id": "7c297a29-7c68-42be-acf8-97ed158afcd3",
   "metadata": {},
   "outputs": [],
   "source": [
    "#tweaking formatting of species name to make it consistent with Organism field \n",
    "target_proteins[\"Organism\"] = target_proteins[\"species_name\"].apply(lambda x: x.replace(\"-\", \" \"))"
   ]
  },
  {
   "cell_type": "code",
   "execution_count": 30,
   "id": "1a2cee4b-4f69-47bf-b192-28f3d10d978c",
   "metadata": {},
   "outputs": [],
   "source": [
    "#adding pulling out the highest scoring KO to make it the KO data more legible \n",
    "target_proteins[\"KO_high_KO\"] = target_proteins[\"KO\"].apply(lambda x: x.split(\";\")[0])\n",
    "target_proteins[\"KO_high_definition\"] = target_proteins[\"KO_definition\"].apply(lambda x: x.split(\";\")[0])\n",
    "target_proteins[\"KO_high_E-value\"] = target_proteins[\"KO_E-value\"].apply(lambda x: x.split(\";\")[0])"
   ]
  },
  {
   "cell_type": "markdown",
   "id": "4e8349d5-06ce-4a14-ad25-059beb3c8dab",
   "metadata": {},
   "source": [
    "### I want a single field to show the annotation intsead of being split across eggnog and ko. \n",
    "Because the eggnog annotations are more stringent than the KO ones, I made a rule that the eggnog annotation should be considered the more legit annotation, and the KO one should only be used if there is no eggnog annotation and that KO definition is above threshold (ie not a PUF) "
   ]
  },
  {
   "cell_type": "code",
   "execution_count": 31,
   "id": "82b6397e-0609-4954-9939-1a0bf3e6fb70",
   "metadata": {},
   "outputs": [],
   "source": [
    "#this function takes 3 annotation fields for a single gene and picks the most appropriate one for the top annotation\n",
    "\n",
    "def get_best_def(egg_Description_list, KO_high_definition_list, PI_or_PUF_list):\n",
    "    i = 0 \n",
    "    answer_list = []\n",
    "    \n",
    "    for anno in PI_or_PUF_list:\n",
    "        #if the protein is a PUF, its top annotatation should be PUF\n",
    "        if anno == \"PUF\":\n",
    "            answer = \"PUF\"\n",
    "        \n",
    "        #if the protein has a eggnog annotation, use that one bc it is more stringent than kofamscan\n",
    "        elif egg_Description_list[i] != \"None\":\n",
    "            answer = egg_Description_list[i]\n",
    "        \n",
    "        #only use kofamscan annotation if no eggnog annotation, and if not a PUF\n",
    "        else:\n",
    "            answer = KO_high_definition_list[i]\n",
    "        i = i +1 \n",
    "        answer_list.append(answer)\n",
    "    \n",
    "    return(answer_list)"
   ]
  },
  {
   "cell_type": "code",
   "execution_count": 32,
   "id": "cb1a639c-717a-48af-924b-568ed5dc1e19",
   "metadata": {},
   "outputs": [],
   "source": [
    "target_proteins[\"top_annotation\"] = get_best_def(target_proteins[\"egg_Description\"].to_list(), target_proteins[\"KO_high_definition\"].to_list(), target_proteins[\"PI_or_PUF\"].to_list())\n"
   ]
  },
  {
   "cell_type": "code",
   "execution_count": 33,
   "id": "679146ae-2c01-45b2-9473-bb8b20274d92",
   "metadata": {},
   "outputs": [],
   "source": [
    "#Gene Names (primary) is a field that the protein cartography dashboard uses , using the egg_Preferred_name for it \n",
    "target_proteins[\"Gene Names (primary)\"] = target_proteins[\"egg_Preferred_name\"]"
   ]
  },
  {
   "cell_type": "code",
   "execution_count": 34,
   "id": "b1dcfcc5-a5cc-4de3-9340-82d0d741d7b7",
   "metadata": {},
   "outputs": [],
   "source": [
    "#Protein names is a field that the protein cartography dashboard uses ,using 'top_annotation' for it \n",
    "target_proteins['Protein names'] = target_proteins['top_annotation']"
   ]
  },
  {
   "cell_type": "markdown",
   "id": "fdb43bb8-961b-42f9-bc37-3ca540f3b476",
   "metadata": {},
   "source": [
    "### Bringing in the output tsv from the esmfold run. This output tsv records a couple things to care about:\n",
    "1. The pdb file name and the protein fasta header, which is called gene_name in the target_proteins dataframe. In the case that the fasta header is too long/has special characters, it may be necessary for the esmfold script to create an output pdb file name be different than this fasta header. \n",
    "\n",
    "2. A record of X to A counts: or how many X's there were in the input fasta sequence that was replaced with As\n",
    "\n",
    "3. The sanitized protein sequence, which is the sequence that was actually folded. This would include the replacemnet of X with A."
   ]
  },
  {
   "cell_type": "code",
   "execution_count": 35,
   "id": "f4768894-779e-4fbb-bf3c-d0619e20d6e5",
   "metadata": {},
   "outputs": [],
   "source": [
    "#had two batches of folding jobs, need out for both of them \n",
    "esmfold_out_1 = pd.read_csv(\"../datasheets/0912_pi_discovery_succesful_download.tsv\", sep =\"\\t\")\n",
    "esmfold_out_2 = pd.read_csv(\"../datasheets/1003_pi_discovery_new_succesful_download.tsv\", sep =\"\\t\")\n",
    "\n",
    "\n",
    "esmfold_out = pd.concat([esmfold_out_1, esmfold_out_2])\n"
   ]
  },
  {
   "cell_type": "code",
   "execution_count": 36,
   "id": "698d78df-8e02-4896-b8c4-dd66eeebb8f4",
   "metadata": {},
   "outputs": [],
   "source": [
    "#fasta_header is the col that we need to merge with target_proteins using gene_name as key \n",
    "#renaming esmfold cols as not to be overly confusing \n",
    "\n",
    "esmfold_out = esmfold_out.rename(columns={'gene_name': 'esmfold_generated_gene_name'})\n",
    "esmfold_out[\"gene_name\"] = esmfold_out[\"fasta_header\"]"
   ]
  },
  {
   "cell_type": "code",
   "execution_count": 37,
   "id": "41b14197-8972-4c79-a9a0-ee10f7b74a95",
   "metadata": {},
   "outputs": [],
   "source": [
    "#using .pdb file name to generate mandatory protid. This field is used to link the pdb file to metadata \n",
    "esmfold_out[\"protid\"] = esmfold_out[\"pdb_name\"].apply(lambda x: x.strip(\".pdb\"))"
   ]
  },
  {
   "cell_type": "code",
   "execution_count": 38,
   "id": "5c66ea67-9886-4862-96ec-da83f28bc3b8",
   "metadata": {},
   "outputs": [],
   "source": [
    "#storing alanine substituted sanitized sequence as the Sequence field to be moved over to metadata file\n",
    "esmfold_out[\"Sequence\"] = esmfold_out[\"sanitized_sequence\"]\n"
   ]
  },
  {
   "cell_type": "code",
   "execution_count": 39,
   "id": "ee45da13-d4e9-4452-8e5f-5749a4a92cf2",
   "metadata": {},
   "outputs": [],
   "source": [
    "#merge target proteins with esmfold output \n",
    "target_proteins = target_proteins.merge(esmfold_out, on = \"gene_name\", how = \"left\")"
   ]
  },
  {
   "cell_type": "code",
   "execution_count": 40,
   "id": "af15badb-a396-42b3-b6bd-67c166285694",
   "metadata": {},
   "outputs": [
    {
     "data": {
      "text/html": [
       "<div>\n",
       "<style scoped>\n",
       "    .dataframe tbody tr th:only-of-type {\n",
       "        vertical-align: middle;\n",
       "    }\n",
       "\n",
       "    .dataframe tbody tr th {\n",
       "        vertical-align: top;\n",
       "    }\n",
       "\n",
       "    .dataframe thead th {\n",
       "        text-align: right;\n",
       "    }\n",
       "</style>\n",
       "<table border=\"1\" class=\"dataframe\">\n",
       "  <thead>\n",
       "    <tr style=\"text-align: right;\">\n",
       "      <th></th>\n",
       "      <th>gene_name</th>\n",
       "      <th>egg_seed_ortholog</th>\n",
       "      <th>egg_evalue</th>\n",
       "      <th>egg_score</th>\n",
       "      <th>eggNOG_OGs</th>\n",
       "      <th>egg_max_annot_lvl</th>\n",
       "      <th>egg_COG_category</th>\n",
       "      <th>egg_Description</th>\n",
       "      <th>egg_Preferred_name</th>\n",
       "      <th>egg_GOs</th>\n",
       "      <th>egg_EC</th>\n",
       "      <th>egg_KEGG_ko</th>\n",
       "      <th>egg_KEGG_Pathway</th>\n",
       "      <th>egg_KEGG_Module</th>\n",
       "      <th>egg_KEGG_Reaction</th>\n",
       "      <th>egg_KEGG_rclass</th>\n",
       "      <th>egg_BRITE</th>\n",
       "      <th>egg_KEGG_TC</th>\n",
       "      <th>egg_CAZy</th>\n",
       "      <th>egg_BiGG_Reaction</th>\n",
       "      <th>egg_PFAMs</th>\n",
       "      <th>KO_pass</th>\n",
       "      <th>KO</th>\n",
       "      <th>KO_thrshld</th>\n",
       "      <th>KO_score</th>\n",
       "      <th>KO_E-value</th>\n",
       "      <th>KO_definition</th>\n",
       "      <th>deepsig_feature</th>\n",
       "      <th>deepsig_start</th>\n",
       "      <th>deepsig_end</th>\n",
       "      <th>deepsig_sp_score</th>\n",
       "      <th>deepsig_sp_evidence</th>\n",
       "      <th>Length</th>\n",
       "      <th>species_name</th>\n",
       "      <th>is_tick</th>\n",
       "      <th>KO_high_score</th>\n",
       "      <th>PI_or_PUF</th>\n",
       "      <th>Lineage</th>\n",
       "      <th>Organism</th>\n",
       "      <th>KO_high_KO</th>\n",
       "      <th>KO_high_definition</th>\n",
       "      <th>KO_high_E-value</th>\n",
       "      <th>top_annotation</th>\n",
       "      <th>Gene Names (primary)</th>\n",
       "      <th>Protein names</th>\n",
       "      <th>esmfold_generated_gene_name</th>\n",
       "      <th>fasta_header</th>\n",
       "      <th>pdb_name</th>\n",
       "      <th>is_original_sequence_valid</th>\n",
       "      <th>xtoa_replacement_count</th>\n",
       "      <th>sequence</th>\n",
       "      <th>sanitized_sequence</th>\n",
       "      <th>protid</th>\n",
       "      <th>Sequence</th>\n",
       "    </tr>\n",
       "  </thead>\n",
       "  <tbody>\n",
       "  </tbody>\n",
       "</table>\n",
       "</div>"
      ],
      "text/plain": [
       "Empty DataFrame\n",
       "Columns: [gene_name, egg_seed_ortholog, egg_evalue, egg_score, eggNOG_OGs, egg_max_annot_lvl, egg_COG_category, egg_Description, egg_Preferred_name, egg_GOs, egg_EC, egg_KEGG_ko, egg_KEGG_Pathway, egg_KEGG_Module, egg_KEGG_Reaction, egg_KEGG_rclass, egg_BRITE, egg_KEGG_TC, egg_CAZy, egg_BiGG_Reaction, egg_PFAMs, KO_pass, KO, KO_thrshld, KO_score, KO_E-value, KO_definition, deepsig_feature, deepsig_start, deepsig_end, deepsig_sp_score, deepsig_sp_evidence, Length, species_name, is_tick, KO_high_score, PI_or_PUF, Lineage, Organism, KO_high_KO, KO_high_definition, KO_high_E-value, top_annotation, Gene Names (primary), Protein names, esmfold_generated_gene_name, fasta_header, pdb_name, is_original_sequence_valid, xtoa_replacement_count, sequence, sanitized_sequence, protid, Sequence]\n",
       "Index: []"
      ]
     },
     "execution_count": 40,
     "metadata": {},
     "output_type": "execute_result"
    }
   ],
   "source": [
    "#check for any cases where the esmfold info wasn't merged in  \n",
    "target_proteins.loc[target_proteins[\"protid\"].isna()]"
   ]
  },
  {
   "cell_type": "code",
   "execution_count": 41,
   "id": "3f624876-a519-48b4-ac59-52062739b51f",
   "metadata": {},
   "outputs": [],
   "source": [
    "#storing original gene name from the fasta file/original annotation files in case .pdb file name is different \n",
    "target_proteins[\"gene_name_in_fasta\"] = target_proteins[\"gene_name\"]"
   ]
  },
  {
   "cell_type": "code",
   "execution_count": 42,
   "id": "de88a520-6265-4fb7-821d-2c4264af20f4",
   "metadata": {},
   "outputs": [],
   "source": [
    "#reducing down to just the columns i care about \n",
    "proteins_metadata = target_proteins[['protid','Organism','Lineage', 'Length','Sequence', 'Gene Names (primary)', 'Protein names','PI_or_PUF', 'deepsig_feature', 'egg_Description','egg_evalue', \n",
    "                                     'egg_score', 'egg_PFAMs','KO_high_KO','KO_high_definition','KO_high_E-value','KO_high_score', 'KO_score', 'KO_E-value', 'KO_definition', 'gene_name_in_fasta', 'xtoa_replacement_count']]\n"
   ]
  },
  {
   "cell_type": "code",
   "execution_count": 43,
   "id": "7599f5a9-1eda-4d08-9462-08682bd4d74f",
   "metadata": {},
   "outputs": [],
   "source": [
    "#converting \"None\" to empty cell \n",
    "proteins_metadata = proteins_metadata.replace({'None': ''}, regex=True)"
   ]
  },
  {
   "cell_type": "code",
   "execution_count": 44,
   "id": "9e3c556e-a564-48f1-9e17-b17899c57f60",
   "metadata": {},
   "outputs": [],
   "source": [
    "#writing out the metadata file for use in Protein Cartography \n",
    "proteins_metadata.to_csv(\"../datasheets/tick_PUFs_PIs_1200_metadata.tsv\", index = False, sep = \"\\t\" )"
   ]
  },
  {
   "cell_type": "markdown",
   "id": "3b6658da-553f-4acb-be91-f227b6eb73b7",
   "metadata": {},
   "source": [
    "### Now checking the toxinDB structures and metadata file "
   ]
  },
  {
   "cell_type": "markdown",
   "id": "91e21dae-2c40-4b1c-b71f-f3c9e2720908",
   "metadata": {},
   "source": [
    "### Read in pdb structure file names to get ids "
   ]
  },
  {
   "cell_type": "code",
   "execution_count": 45,
   "id": "6ae82808-c8a2-4888-a43c-9430302d3010",
   "metadata": {},
   "outputs": [
    {
     "data": {
      "text/html": [
       "<div>\n",
       "<style scoped>\n",
       "    .dataframe tbody tr th:only-of-type {\n",
       "        vertical-align: middle;\n",
       "    }\n",
       "\n",
       "    .dataframe tbody tr th {\n",
       "        vertical-align: top;\n",
       "    }\n",
       "\n",
       "    .dataframe thead th {\n",
       "        text-align: right;\n",
       "    }\n",
       "</style>\n",
       "<table border=\"1\" class=\"dataframe\">\n",
       "  <thead>\n",
       "    <tr style=\"text-align: right;\">\n",
       "      <th></th>\n",
       "      <th>protid</th>\n",
       "      <th>Entry</th>\n",
       "    </tr>\n",
       "  </thead>\n",
       "  <tbody>\n",
       "    <tr>\n",
       "      <th>0</th>\n",
       "      <td>AF-P0DPT9-F1-model_v4</td>\n",
       "      <td>P0DPT9</td>\n",
       "    </tr>\n",
       "    <tr>\n",
       "      <th>1</th>\n",
       "      <td>AF-P0DSI3-F1-model_v4</td>\n",
       "      <td>P0DSI3</td>\n",
       "    </tr>\n",
       "    <tr>\n",
       "      <th>2</th>\n",
       "      <td>AF-Q75WH2-F1-model_v4</td>\n",
       "      <td>Q75WH2</td>\n",
       "    </tr>\n",
       "    <tr>\n",
       "      <th>3</th>\n",
       "      <td>AF-B1PZN6-F1-model_v4</td>\n",
       "      <td>B1PZN6</td>\n",
       "    </tr>\n",
       "    <tr>\n",
       "      <th>4</th>\n",
       "      <td>AF-O77256-F1-model_v4</td>\n",
       "      <td>O77256</td>\n",
       "    </tr>\n",
       "    <tr>\n",
       "      <th>...</th>\n",
       "      <td>...</td>\n",
       "      <td>...</td>\n",
       "    </tr>\n",
       "    <tr>\n",
       "      <th>7003</th>\n",
       "      <td>AF-B6DCM8-F1-model_v4</td>\n",
       "      <td>B6DCM8</td>\n",
       "    </tr>\n",
       "    <tr>\n",
       "      <th>7004</th>\n",
       "      <td>AF-P0DN51-F1-model_v4</td>\n",
       "      <td>P0DN51</td>\n",
       "    </tr>\n",
       "    <tr>\n",
       "      <th>7005</th>\n",
       "      <td>AF-X5I9Z2-F1-model_v4</td>\n",
       "      <td>X5I9Z2</td>\n",
       "    </tr>\n",
       "    <tr>\n",
       "      <th>7006</th>\n",
       "      <td>AF-P0CAS9-F1-model_v4</td>\n",
       "      <td>P0CAS9</td>\n",
       "    </tr>\n",
       "    <tr>\n",
       "      <th>7007</th>\n",
       "      <td>AF-C6JUN9-F1-model_v4</td>\n",
       "      <td>C6JUN9</td>\n",
       "    </tr>\n",
       "  </tbody>\n",
       "</table>\n",
       "<p>7008 rows × 2 columns</p>\n",
       "</div>"
      ],
      "text/plain": [
       "                     protid   Entry\n",
       "0     AF-P0DPT9-F1-model_v4  P0DPT9\n",
       "1     AF-P0DSI3-F1-model_v4  P0DSI3\n",
       "2     AF-Q75WH2-F1-model_v4  Q75WH2\n",
       "3     AF-B1PZN6-F1-model_v4  B1PZN6\n",
       "4     AF-O77256-F1-model_v4  O77256\n",
       "...                     ...     ...\n",
       "7003  AF-B6DCM8-F1-model_v4  B6DCM8\n",
       "7004  AF-P0DN51-F1-model_v4  P0DN51\n",
       "7005  AF-X5I9Z2-F1-model_v4  X5I9Z2\n",
       "7006  AF-P0CAS9-F1-model_v4  P0CAS9\n",
       "7007  AF-C6JUN9-F1-model_v4  C6JUN9\n",
       "\n",
       "[7008 rows x 2 columns]"
      ]
     },
     "execution_count": 45,
     "metadata": {},
     "output_type": "execute_result"
    }
   ],
   "source": [
    "#reading in all the file names \n",
    "pdb_dict = defaultdict(list)\n",
    "for file in glob.glob(\"../../toxinDB/structures/*.pdb\"):\n",
    "    pdb_id = species = file.split(\"/\")[-1].split(\".pdb\")[0]\n",
    "\n",
    "    #file names are formatted like AF-C6JUN9-F1-model_v4, C6JUN9 is the relevant here\n",
    "    elems = pdb_id.split(\"-\")\n",
    "\n",
    "    if elems[0] != \"AF\":\n",
    "        print(pdb_id)\n",
    "    else:\n",
    "        prot_id = elems[1]\n",
    "\n",
    "    pdb_dict[\"protid\"].append(pdb_id)\n",
    "    pdb_dict[\"Entry\"].append(prot_id)\n",
    "\n",
    "\n",
    "pdb_df = pd.DataFrame(pdb_dict)\n",
    "pdb_df"
   ]
  },
  {
   "cell_type": "code",
   "execution_count": 46,
   "id": "894d1911-b102-4d9b-ab52-d9fd729788b7",
   "metadata": {},
   "outputs": [],
   "source": [
    "pdb_df.to_csv(\"../datasheets/toxinDB_pdb_list.csv\", index = False)"
   ]
  },
  {
   "cell_type": "markdown",
   "id": "d4b8356b-8971-473d-ab53-e5193f61d823",
   "metadata": {},
   "source": [
    "### Read in metadata file that was provided and merge in pdb file ids"
   ]
  },
  {
   "cell_type": "code",
   "execution_count": 47,
   "id": "e52d0413-c6f1-4c65-b07b-ea0856bd89ce",
   "metadata": {},
   "outputs": [
    {
     "data": {
      "text/html": [
       "<div>\n",
       "<style scoped>\n",
       "    .dataframe tbody tr th:only-of-type {\n",
       "        vertical-align: middle;\n",
       "    }\n",
       "\n",
       "    .dataframe tbody tr th {\n",
       "        vertical-align: top;\n",
       "    }\n",
       "\n",
       "    .dataframe thead th {\n",
       "        text-align: right;\n",
       "    }\n",
       "</style>\n",
       "<table border=\"1\" class=\"dataframe\">\n",
       "  <thead>\n",
       "    <tr style=\"text-align: right;\">\n",
       "      <th></th>\n",
       "      <th>Entry</th>\n",
       "      <th>Entry Name</th>\n",
       "      <th>Protein names</th>\n",
       "      <th>Gene Names</th>\n",
       "      <th>Organism</th>\n",
       "      <th>Length</th>\n",
       "      <th>AlphaFoldDB</th>\n",
       "      <th>Sequence</th>\n",
       "      <th>Annotation</th>\n",
       "      <th>Interacts with</th>\n",
       "      <th>Pfam</th>\n",
       "      <th>protid</th>\n",
       "    </tr>\n",
       "  </thead>\n",
       "  <tbody>\n",
       "    <tr>\n",
       "      <th>0</th>\n",
       "      <td>C0L2T8</td>\n",
       "      <td>VM2C1_CRODO</td>\n",
       "      <td>Zinc metalloproteinase/disintegrin (Metallopro...</td>\n",
       "      <td>MPII</td>\n",
       "      <td>Crotalus durissus collilineatus (Brazilian rat...</td>\n",
       "      <td>478</td>\n",
       "      <td>C0L2T8;</td>\n",
       "      <td>MIQVLLVTICLAAFPYQGSSIILESGNVNDYEVIYPRKVTALPKGA...</td>\n",
       "      <td>5.0</td>\n",
       "      <td>NaN</td>\n",
       "      <td>PF00200;PF01562;PF01421;</td>\n",
       "      <td>AF-C0L2T8-F1-model_v4</td>\n",
       "    </tr>\n",
       "    <tr>\n",
       "      <th>1</th>\n",
       "      <td>Q2PE51</td>\n",
       "      <td>BNP_CRODO</td>\n",
       "      <td>Bradykinin-potentiating and C-type natriuretic...</td>\n",
       "      <td>NaN</td>\n",
       "      <td>Crotalus durissus collilineatus (Brazilian rat...</td>\n",
       "      <td>181</td>\n",
       "      <td>Q2PE51;</td>\n",
       "      <td>MFVSRLAASGLLLLALLAVSLDGKPLQQWSQRWPHLEIPPLVVQNW...</td>\n",
       "      <td>5.0</td>\n",
       "      <td>NaN</td>\n",
       "      <td>PF00212;</td>\n",
       "      <td>AF-Q2PE51-F1-model_v4</td>\n",
       "    </tr>\n",
       "    <tr>\n",
       "      <th>2</th>\n",
       "      <td>Q90Y12</td>\n",
       "      <td>BNP_CRODU</td>\n",
       "      <td>Bradykinin potentiating and C-type natriuretic...</td>\n",
       "      <td>NaN</td>\n",
       "      <td>Crotalus durissus terrificus (South American r...</td>\n",
       "      <td>181</td>\n",
       "      <td>Q90Y12;</td>\n",
       "      <td>MFVSRLAASGLLLLALLAVSLDGKPLQQWSQRWPHLEIPPLVVQNW...</td>\n",
       "      <td>5.0</td>\n",
       "      <td>NaN</td>\n",
       "      <td>PF00212;</td>\n",
       "      <td>AF-Q90Y12-F1-model_v4</td>\n",
       "    </tr>\n",
       "    <tr>\n",
       "      <th>3</th>\n",
       "      <td>Q9Y0X6</td>\n",
       "      <td>YA_MESMA</td>\n",
       "      <td>BmK-YA precursor [Cleaved into: BmK-YA 1 (Enke...</td>\n",
       "      <td>NaN</td>\n",
       "      <td>Mesobuthus martensii (Manchurian scorpion) (Bu...</td>\n",
       "      <td>200</td>\n",
       "      <td>Q9Y0X6;</td>\n",
       "      <td>MIFHQFYSILILCLIFPNQVVQSDKERQDWIPSDYGGYMNPAGRSD...</td>\n",
       "      <td>5.0</td>\n",
       "      <td>NaN</td>\n",
       "      <td>NaN</td>\n",
       "      <td>AF-Q9Y0X6-F1-model_v4</td>\n",
       "    </tr>\n",
       "    <tr>\n",
       "      <th>4</th>\n",
       "      <td>R4NNL0</td>\n",
       "      <td>VMH3_VIPAA</td>\n",
       "      <td>Zinc metalloproteinase-disintegrin-like protei...</td>\n",
       "      <td>NaN</td>\n",
       "      <td>Vipera ammodytes ammodytes (Western sand viper)</td>\n",
       "      <td>616</td>\n",
       "      <td>R4NNL0;</td>\n",
       "      <td>MIQVLLVIICLAVFPYQGSSIILESGNVNDYEVVYLQKVTAMNKGA...</td>\n",
       "      <td>5.0</td>\n",
       "      <td>NaN</td>\n",
       "      <td>PF08516;PF00200;PF01562;PF01421;</td>\n",
       "      <td>AF-R4NNL0-F1-model_v4</td>\n",
       "    </tr>\n",
       "    <tr>\n",
       "      <th>...</th>\n",
       "      <td>...</td>\n",
       "      <td>...</td>\n",
       "      <td>...</td>\n",
       "      <td>...</td>\n",
       "      <td>...</td>\n",
       "      <td>...</td>\n",
       "      <td>...</td>\n",
       "      <td>...</td>\n",
       "      <td>...</td>\n",
       "      <td>...</td>\n",
       "      <td>...</td>\n",
       "      <td>...</td>\n",
       "    </tr>\n",
       "    <tr>\n",
       "      <th>7731</th>\n",
       "      <td>P86342</td>\n",
       "      <td>VP6_BROAA</td>\n",
       "      <td>Venom peptide 6 (BaP-6)</td>\n",
       "      <td>NaN</td>\n",
       "      <td>Brotheas amazonicus (Scorpion)</td>\n",
       "      <td>12</td>\n",
       "      <td>NaN</td>\n",
       "      <td>GFIGDIWSGIQG</td>\n",
       "      <td>1.0</td>\n",
       "      <td>NaN</td>\n",
       "      <td>NaN</td>\n",
       "      <td>NaN</td>\n",
       "    </tr>\n",
       "    <tr>\n",
       "      <th>7732</th>\n",
       "      <td>P86343</td>\n",
       "      <td>VP5_BROAA</td>\n",
       "      <td>Venom peptide 5 (BaP-5)</td>\n",
       "      <td>NaN</td>\n",
       "      <td>Brotheas amazonicus (Scorpion)</td>\n",
       "      <td>11</td>\n",
       "      <td>NaN</td>\n",
       "      <td>FIGDIWSGIQG</td>\n",
       "      <td>1.0</td>\n",
       "      <td>NaN</td>\n",
       "      <td>NaN</td>\n",
       "      <td>NaN</td>\n",
       "    </tr>\n",
       "    <tr>\n",
       "      <th>7733</th>\n",
       "      <td>Q7M463</td>\n",
       "      <td>SCK6_MESMA</td>\n",
       "      <td>Neurotoxin BmK A3-6</td>\n",
       "      <td>NaN</td>\n",
       "      <td>Mesobuthus martensii (Manchurian scorpion) (Bu...</td>\n",
       "      <td>29</td>\n",
       "      <td>Q7M463;</td>\n",
       "      <td>LPYPVNCKTECECVMCGLGIICKQCYYQQ</td>\n",
       "      <td>1.0</td>\n",
       "      <td>NaN</td>\n",
       "      <td>NaN</td>\n",
       "      <td>AF-Q7M463-F1-model_v4</td>\n",
       "    </tr>\n",
       "    <tr>\n",
       "      <th>7734</th>\n",
       "      <td>A0A6B9KZ02</td>\n",
       "      <td>F16P1_PLARH</td>\n",
       "      <td>Venom protein family 16 protein 1 (f16p1)</td>\n",
       "      <td>NaN</td>\n",
       "      <td>Platymeris rhadamanthus (Red spot assassin bug)</td>\n",
       "      <td>127</td>\n",
       "      <td>A0A6B9KZ02;</td>\n",
       "      <td>MWIWYSLLFFGVCHLAHSTSTVDDALTCHGEKLAEEVLNELKEHFG...</td>\n",
       "      <td>1.0</td>\n",
       "      <td>NaN</td>\n",
       "      <td>NaN</td>\n",
       "      <td>AF-A0A6B9KZ02-F1-model_v4</td>\n",
       "    </tr>\n",
       "    <tr>\n",
       "      <th>7735</th>\n",
       "      <td>A0A6B9L1A2</td>\n",
       "      <td>PR8A_PLARH</td>\n",
       "      <td>Venom family 8-like peptide Pr8a</td>\n",
       "      <td>NaN</td>\n",
       "      <td>Platymeris rhadamanthus (Red spot assassin bug)</td>\n",
       "      <td>106</td>\n",
       "      <td>A0A6B9L1A2;</td>\n",
       "      <td>MSPIAFLLPFLLQMVLSTNVSTTSNNGVTEIRLDNKIVDLTKATVL...</td>\n",
       "      <td>1.0</td>\n",
       "      <td>NaN</td>\n",
       "      <td>NaN</td>\n",
       "      <td>AF-A0A6B9L1A2-F1-model_v4</td>\n",
       "    </tr>\n",
       "  </tbody>\n",
       "</table>\n",
       "<p>7736 rows × 12 columns</p>\n",
       "</div>"
      ],
      "text/plain": [
       "           Entry   Entry Name  \\\n",
       "0         C0L2T8  VM2C1_CRODO   \n",
       "1         Q2PE51    BNP_CRODO   \n",
       "2         Q90Y12    BNP_CRODU   \n",
       "3         Q9Y0X6     YA_MESMA   \n",
       "4         R4NNL0   VMH3_VIPAA   \n",
       "...          ...          ...   \n",
       "7731      P86342    VP6_BROAA   \n",
       "7732      P86343    VP5_BROAA   \n",
       "7733      Q7M463   SCK6_MESMA   \n",
       "7734  A0A6B9KZ02  F16P1_PLARH   \n",
       "7735  A0A6B9L1A2   PR8A_PLARH   \n",
       "\n",
       "                                          Protein names Gene Names  \\\n",
       "0     Zinc metalloproteinase/disintegrin (Metallopro...       MPII   \n",
       "1     Bradykinin-potentiating and C-type natriuretic...        NaN   \n",
       "2     Bradykinin potentiating and C-type natriuretic...        NaN   \n",
       "3     BmK-YA precursor [Cleaved into: BmK-YA 1 (Enke...        NaN   \n",
       "4     Zinc metalloproteinase-disintegrin-like protei...        NaN   \n",
       "...                                                 ...        ...   \n",
       "7731                            Venom peptide 6 (BaP-6)        NaN   \n",
       "7732                            Venom peptide 5 (BaP-5)        NaN   \n",
       "7733                                Neurotoxin BmK A3-6        NaN   \n",
       "7734          Venom protein family 16 protein 1 (f16p1)        NaN   \n",
       "7735                   Venom family 8-like peptide Pr8a        NaN   \n",
       "\n",
       "                                               Organism  Length  AlphaFoldDB  \\\n",
       "0     Crotalus durissus collilineatus (Brazilian rat...     478      C0L2T8;   \n",
       "1     Crotalus durissus collilineatus (Brazilian rat...     181      Q2PE51;   \n",
       "2     Crotalus durissus terrificus (South American r...     181      Q90Y12;   \n",
       "3     Mesobuthus martensii (Manchurian scorpion) (Bu...     200      Q9Y0X6;   \n",
       "4       Vipera ammodytes ammodytes (Western sand viper)     616      R4NNL0;   \n",
       "...                                                 ...     ...          ...   \n",
       "7731                     Brotheas amazonicus (Scorpion)      12          NaN   \n",
       "7732                     Brotheas amazonicus (Scorpion)      11          NaN   \n",
       "7733  Mesobuthus martensii (Manchurian scorpion) (Bu...      29      Q7M463;   \n",
       "7734    Platymeris rhadamanthus (Red spot assassin bug)     127  A0A6B9KZ02;   \n",
       "7735    Platymeris rhadamanthus (Red spot assassin bug)     106  A0A6B9L1A2;   \n",
       "\n",
       "                                               Sequence  Annotation  \\\n",
       "0     MIQVLLVTICLAAFPYQGSSIILESGNVNDYEVIYPRKVTALPKGA...         5.0   \n",
       "1     MFVSRLAASGLLLLALLAVSLDGKPLQQWSQRWPHLEIPPLVVQNW...         5.0   \n",
       "2     MFVSRLAASGLLLLALLAVSLDGKPLQQWSQRWPHLEIPPLVVQNW...         5.0   \n",
       "3     MIFHQFYSILILCLIFPNQVVQSDKERQDWIPSDYGGYMNPAGRSD...         5.0   \n",
       "4     MIQVLLVIICLAVFPYQGSSIILESGNVNDYEVVYLQKVTAMNKGA...         5.0   \n",
       "...                                                 ...         ...   \n",
       "7731                                       GFIGDIWSGIQG         1.0   \n",
       "7732                                        FIGDIWSGIQG         1.0   \n",
       "7733                      LPYPVNCKTECECVMCGLGIICKQCYYQQ         1.0   \n",
       "7734  MWIWYSLLFFGVCHLAHSTSTVDDALTCHGEKLAEEVLNELKEHFG...         1.0   \n",
       "7735  MSPIAFLLPFLLQMVLSTNVSTTSNNGVTEIRLDNKIVDLTKATVL...         1.0   \n",
       "\n",
       "     Interacts with                              Pfam  \\\n",
       "0               NaN          PF00200;PF01562;PF01421;   \n",
       "1               NaN                          PF00212;   \n",
       "2               NaN                          PF00212;   \n",
       "3               NaN                               NaN   \n",
       "4               NaN  PF08516;PF00200;PF01562;PF01421;   \n",
       "...             ...                               ...   \n",
       "7731            NaN                               NaN   \n",
       "7732            NaN                               NaN   \n",
       "7733            NaN                               NaN   \n",
       "7734            NaN                               NaN   \n",
       "7735            NaN                               NaN   \n",
       "\n",
       "                         protid  \n",
       "0         AF-C0L2T8-F1-model_v4  \n",
       "1         AF-Q2PE51-F1-model_v4  \n",
       "2         AF-Q90Y12-F1-model_v4  \n",
       "3         AF-Q9Y0X6-F1-model_v4  \n",
       "4         AF-R4NNL0-F1-model_v4  \n",
       "...                         ...  \n",
       "7731                        NaN  \n",
       "7732                        NaN  \n",
       "7733      AF-Q7M463-F1-model_v4  \n",
       "7734  AF-A0A6B9KZ02-F1-model_v4  \n",
       "7735  AF-A0A6B9L1A2-F1-model_v4  \n",
       "\n",
       "[7736 rows x 12 columns]"
      ]
     },
     "execution_count": 47,
     "metadata": {},
     "output_type": "execute_result"
    }
   ],
   "source": [
    "toxin_metadata = pd.read_csv(\"../../toxinDB/toxin_protein_annotations.tsv\", sep = \"\\t\")\n",
    "toxin_metadata = toxin_metadata.merge(pdb_df, on = \"Entry\", how = \"left\")\n",
    "toxin_metadata"
   ]
  },
  {
   "cell_type": "markdown",
   "id": "6c18ff40-784b-4d83-afb0-40d347962be7",
   "metadata": {},
   "source": [
    "### I don't have structures for every protein in metadata file. Dropping rows that I dont have structures for"
   ]
  },
  {
   "cell_type": "code",
   "execution_count": 48,
   "id": "6fcdf2e0-081d-4fbe-ad6f-70295de904f1",
   "metadata": {},
   "outputs": [],
   "source": [
    "toxin_metadata = toxin_metadata.loc[toxin_metadata[\"protid\"].notna()]"
   ]
  },
  {
   "cell_type": "code",
   "execution_count": 49,
   "id": "4720af6b-4270-4394-a8dd-0eb6fbcf56f7",
   "metadata": {},
   "outputs": [],
   "source": [
    "toxin_metadata.to_csv(\"../datasheets/toxinDB_metadata.tsv\", index = False, sep = \"\\t\" )"
   ]
  },
  {
   "cell_type": "markdown",
   "id": "10032359-9c86-4b4d-943c-e7b862088531",
   "metadata": {},
   "source": [
    "### Making a merged metadata file for tick PIs and PUFs + toxinDB to use in cartography run"
   ]
  },
  {
   "cell_type": "code",
   "execution_count": 50,
   "id": "fbb3c78a-b4fc-47e2-9c59-8ad079c2b215",
   "metadata": {},
   "outputs": [],
   "source": [
    "tick_metadata = pd.read_csv(\"../datasheets/tick_PUFs_PIs_1200_metadata.tsv\", sep = \"\\t\")\n",
    "merged = pd.concat([toxin_metadata, tick_metadata])\n"
   ]
  },
  {
   "cell_type": "code",
   "execution_count": 51,
   "id": "0afa8417-f5d0-4f60-899f-9367a7b8c9fa",
   "metadata": {},
   "outputs": [],
   "source": [
    "merged.to_csv(\"../datasheets/tick_PUFs_PIs_1200_plus_toxinDB_metadata.tsv\", sep = \"\\t\")"
   ]
  },
  {
   "cell_type": "code",
   "execution_count": 53,
   "id": "eaf38285-0c60-47bc-a013-ee1c7e8802d4",
   "metadata": {},
   "outputs": [
    {
     "data": {
      "text/plain": [
       "22502"
      ]
     },
     "execution_count": 53,
     "metadata": {},
     "output_type": "execute_result"
    }
   ],
   "source": [
    "len(merged)"
   ]
  }
 ],
 "metadata": {
  "kernelspec": {
   "display_name": "Python 3 (ipykernel)",
   "language": "python",
   "name": "python3"
  },
  "language_info": {
   "codemirror_mode": {
    "name": "ipython",
    "version": 3
   },
   "file_extension": ".py",
   "mimetype": "text/x-python",
   "name": "python",
   "nbconvert_exporter": "python",
   "pygments_lexer": "ipython3",
   "version": "3.11.5"
  }
 },
 "nbformat": 4,
 "nbformat_minor": 5
}
